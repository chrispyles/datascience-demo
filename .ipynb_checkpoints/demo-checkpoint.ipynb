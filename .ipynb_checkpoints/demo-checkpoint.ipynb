{
 "cells": [
  {
   "cell_type": "markdown",
   "metadata": {},
   "source": [
    "# `datascience` Library Demo Notebook\n",
    "\n",
    "_Notebook created by Chris Pyles_\n",
    "\n",
    "This notebook is intended to give you some basic information on manipulating rectangular data using the `datascience` library. The `datascience` library is a module for Python developed at UC Berkeley and which is used in the course Data 8: Foundations of Data Science. This notebook covers basic table operations using this library.\n",
    "\n",
    "<!--\n",
    "\n",
    "**Table of Contents**\n",
    "1. [Dependences](#Dependencies)\n",
    "2. [Loading Data](#Loading-Data)\n",
    "3. [Moving Between `pandas` and `datascience`](#Moving-Between-pandas-and-datascience)\n",
    "4. [Rows and Columns](#Rows-and-Columns)\n",
    "5. [Accessing Vaues](#Accessing-Values)\n",
    "6. [Missing Values](#Missing-Values)\n",
    "7. [Descriptive Statistics](#Descriptive-Statistics)\n",
    "8. [Grouping](#Grouping)\n",
    "9. [Manipulating Values](#Manipulating-Values)\n",
    "10. [Exporting Figures](#Exporting-Figures)\n",
    "11. [Exporting Data](#Exporting-Data)\n",
    "12. [Conclusion](#Conclusion)\n",
    "\n",
    "-->\n",
    "\n",
    "### Dependencies\n",
    "\n",
    "In the cell below we load the dependencies for this notebook."
   ]
  },
  {
   "cell_type": "code",
   "execution_count": 28,
   "metadata": {},
   "outputs": [],
   "source": [
    "from datascience import *\n",
    "import pandas as pd\n",
    "import numpy as np\n",
    "import datetime as dt\n",
    "import matplotlib.pyplot as plt\n",
    "%matplotlib inline\n",
    "plt.style.use('fivethirtyeight')\n",
    "from IPython.display import display"
   ]
  },
  {
   "cell_type": "markdown",
   "metadata": {},
   "source": [
    "### Loading Data\n",
    "\n",
    "The method that `datascience` provides for reading in data defaults to reading CSV files. The function, `Table.read_table()`, takes as its argument a relative path to the data file. In the cell below, we load the datasets we will be using for this demo."
   ]
  },
  {
   "cell_type": "code",
   "execution_count": 21,
   "metadata": {},
   "outputs": [
    {
     "name": "stderr",
     "output_type": "stream",
     "text": [
      "/Library/Frameworks/Python.framework/Versions/3.6/lib/python3.6/site-packages/datascience/tables.py:132: FutureWarning: read_table is deprecated, use read_csv instead.\n",
      "  df = pandas.read_table(filepath_or_buffer, *args, **vargs)\n"
     ]
    },
    {
     "data": {
      "text/html": [
       "<table border=\"1\" class=\"dataframe\">\n",
       "    <thead>\n",
       "        <tr>\n",
       "            <th>Trip ID</th> <th>Duration</th> <th>Start Date</th> <th>Start Station</th> <th>Start Terminal</th> <th>End Date</th> <th>End Station</th> <th>End Terminal</th> <th>Bike #</th> <th>Subscriber Type</th> <th>Zip Code</th>\n",
       "        </tr>\n",
       "    </thead>\n",
       "    <tbody>\n",
       "        <tr>\n",
       "            <td>913460 </td> <td>765     </td> <td>8/31/2015 23:26</td> <td>Harry Bridges Plaza (Ferry Building)</td> <td>50            </td> <td>8/31/2015 23:39</td> <td>San Francisco Caltrain (Townsend at 4th)</td> <td>70          </td> <td>288   </td> <td>Subscriber     </td> <td>2139    </td>\n",
       "        </tr>\n",
       "        <tr>\n",
       "            <td>913459 </td> <td>1036    </td> <td>8/31/2015 23:11</td> <td>San Antonio Shopping Center         </td> <td>31            </td> <td>8/31/2015 23:28</td> <td>Mountain View City Hall                 </td> <td>27          </td> <td>35    </td> <td>Subscriber     </td> <td>95032   </td>\n",
       "        </tr>\n",
       "        <tr>\n",
       "            <td>913455 </td> <td>307     </td> <td>8/31/2015 23:13</td> <td>Post at Kearny                      </td> <td>47            </td> <td>8/31/2015 23:18</td> <td>2nd at South Park                       </td> <td>64          </td> <td>468   </td> <td>Subscriber     </td> <td>94107   </td>\n",
       "        </tr>\n",
       "        <tr>\n",
       "            <td>913454 </td> <td>409     </td> <td>8/31/2015 23:10</td> <td>San Jose City Hall                  </td> <td>10            </td> <td>8/31/2015 23:17</td> <td>San Salvador at 1st                     </td> <td>8           </td> <td>68    </td> <td>Subscriber     </td> <td>95113   </td>\n",
       "        </tr>\n",
       "        <tr>\n",
       "            <td>913453 </td> <td>789     </td> <td>8/31/2015 23:09</td> <td>Embarcadero at Folsom               </td> <td>51            </td> <td>8/31/2015 23:22</td> <td>Embarcadero at Sansome                  </td> <td>60          </td> <td>487   </td> <td>Customer       </td> <td>9069    </td>\n",
       "        </tr>\n",
       "    </tbody>\n",
       "</table>\n",
       "<p>... (354147 rows omitted)</p>"
      ],
      "text/plain": [
       "<IPython.core.display.HTML object>"
      ]
     },
     "metadata": {},
     "output_type": "display_data"
    },
    {
     "data": {
      "text/html": [
       "<table border=\"1\" class=\"dataframe\">\n",
       "    <thead>\n",
       "        <tr>\n",
       "            <th>station_id</th> <th>name</th> <th>lat</th> <th>long</th> <th>dockcount</th> <th>landmark</th> <th>installation</th>\n",
       "        </tr>\n",
       "    </thead>\n",
       "    <tbody>\n",
       "        <tr>\n",
       "            <td>2         </td> <td>San Jose Diridon Caltrain Station</td> <td>37.3297</td> <td>-121.902</td> <td>27       </td> <td>San Jose</td> <td>8/6/2013    </td>\n",
       "        </tr>\n",
       "        <tr>\n",
       "            <td>3         </td> <td>San Jose Civic Center            </td> <td>37.3307</td> <td>-121.889</td> <td>15       </td> <td>San Jose</td> <td>8/5/2013    </td>\n",
       "        </tr>\n",
       "        <tr>\n",
       "            <td>4         </td> <td>Santa Clara at Almaden           </td> <td>37.334 </td> <td>-121.895</td> <td>11       </td> <td>San Jose</td> <td>8/6/2013    </td>\n",
       "        </tr>\n",
       "        <tr>\n",
       "            <td>5         </td> <td>Adobe on Almaden                 </td> <td>37.3314</td> <td>-121.893</td> <td>19       </td> <td>San Jose</td> <td>8/5/2013    </td>\n",
       "        </tr>\n",
       "        <tr>\n",
       "            <td>6         </td> <td>San Pedro Square                 </td> <td>37.3367</td> <td>-121.894</td> <td>15       </td> <td>San Jose</td> <td>8/7/2013    </td>\n",
       "        </tr>\n",
       "    </tbody>\n",
       "</table>\n",
       "<p>... (65 rows omitted)</p>"
      ],
      "text/plain": [
       "<IPython.core.display.HTML object>"
      ]
     },
     "metadata": {},
     "output_type": "display_data"
    }
   ],
   "source": [
    "trips = Table.read_table('data/trips.csv')\n",
    "stations = Table.read_table('data/stations.csv')\n",
    "trips.show(5)\n",
    "stations.show(5)"
   ]
  },
  {
   "cell_type": "markdown",
   "metadata": {},
   "source": [
    "We use the `Table.show()` method above to display the first 5 lines of each table. This method defaults to all rows, so calling `trips.show()` would have displayed all 354,152 rows of that table."
   ]
  },
  {
   "cell_type": "markdown",
   "metadata": {},
   "source": [
    "If you have files that use other delimeters, you can pass the `sep` argument of `pd.read_csv()` to `Table.read_table()` and the file will be read in correctly."
   ]
  },
  {
   "cell_type": "code",
   "execution_count": 25,
   "metadata": {},
   "outputs": [
    {
     "name": "stderr",
     "output_type": "stream",
     "text": [
      "/Library/Frameworks/Python.framework/Versions/3.6/lib/python3.6/site-packages/datascience/tables.py:132: FutureWarning: read_table is deprecated, use read_csv instead.\n",
      "  df = pandas.read_table(filepath_or_buffer, *args, **vargs)\n"
     ]
    },
    {
     "data": {
      "text/html": [
       "<table border=\"1\" class=\"dataframe\">\n",
       "    <thead>\n",
       "        <tr>\n",
       "            <th>Trip ID</th> <th>Duration</th> <th>Start Date</th> <th>Start Station</th> <th>Start Terminal</th> <th>End Date</th> <th>End Station</th> <th>End Terminal</th> <th>Bike #</th> <th>Subscriber Type</th> <th>Zip Code</th>\n",
       "        </tr>\n",
       "    </thead>\n",
       "    <tbody>\n",
       "        <tr>\n",
       "            <td>913460 </td> <td>765     </td> <td>8/31/2015 23:26</td> <td>Harry Bridges Plaza (Ferry Building)</td> <td>50            </td> <td>8/31/2015 23:39</td> <td>San Francisco Caltrain (Townsend at 4th)</td> <td>70          </td> <td>288   </td> <td>Subscriber     </td> <td>2139    </td>\n",
       "        </tr>\n",
       "        <tr>\n",
       "            <td>913459 </td> <td>1036    </td> <td>8/31/2015 23:11</td> <td>San Antonio Shopping Center         </td> <td>31            </td> <td>8/31/2015 23:28</td> <td>Mountain View City Hall                 </td> <td>27          </td> <td>35    </td> <td>Subscriber     </td> <td>95032   </td>\n",
       "        </tr>\n",
       "        <tr>\n",
       "            <td>913455 </td> <td>307     </td> <td>8/31/2015 23:13</td> <td>Post at Kearny                      </td> <td>47            </td> <td>8/31/2015 23:18</td> <td>2nd at South Park                       </td> <td>64          </td> <td>468   </td> <td>Subscriber     </td> <td>94107   </td>\n",
       "        </tr>\n",
       "        <tr>\n",
       "            <td>913454 </td> <td>409     </td> <td>8/31/2015 23:10</td> <td>San Jose City Hall                  </td> <td>10            </td> <td>8/31/2015 23:17</td> <td>San Salvador at 1st                     </td> <td>8           </td> <td>68    </td> <td>Subscriber     </td> <td>95113   </td>\n",
       "        </tr>\n",
       "        <tr>\n",
       "            <td>913453 </td> <td>789     </td> <td>8/31/2015 23:09</td> <td>Embarcadero at Folsom               </td> <td>51            </td> <td>8/31/2015 23:22</td> <td>Embarcadero at Sansome                  </td> <td>60          </td> <td>487   </td> <td>Customer       </td> <td>9069    </td>\n",
       "        </tr>\n",
       "    </tbody>\n",
       "</table>\n",
       "<p>... (354147 rows omitted)</p>"
      ],
      "text/plain": [
       "<IPython.core.display.HTML object>"
      ]
     },
     "metadata": {},
     "output_type": "display_data"
    }
   ],
   "source": [
    "Table.read_table(\"data/trips.tsv\", sep=\"\\t\").show(5)"
   ]
  },
  {
   "cell_type": "markdown",
   "metadata": {},
   "source": [
    "If you have data formatted in ways other than delimited files, these need to be loaded into `pandas` first before being transferred to `datascience`. An example call is given below.\n",
    "\n",
    "```python\n",
    "# load data into pandas\n",
    "trips_df = pd.read_json(\"data/trips.json\")\n",
    "\n",
    "# transfer to datascience\n",
    "trips_tbl = Table.from_df(trips_df)\n",
    "```"
   ]
  },
  {
   "cell_type": "markdown",
   "metadata": {},
   "source": [
    "### Moving Between `pandas` and `datascience`\n",
    "\n",
    "As noted above, it is possible to transfer your data between `pandas` and `datascience`. The functions to do this are provided in the `datascience` library; `Table.from_df()` takes a DataFrame and returns a Table and `Table.to_df()` turns the Table into a DataFrame.\n",
    "\n",
    "```python\n",
    "# pandas to datascience\n",
    "tbl = Table.from_df(df)\n",
    "\n",
    "# datascience to pandas\n",
    "df = tbl.to_df()\n",
    "```"
   ]
  },
  {
   "cell_type": "markdown",
   "metadata": {},
   "source": [
    "### Rows and Columns \n",
    "\n",
    "To get row and column counts, the `datascience` library provides the `num_rows` and `num_columns` attributes, which are self-explanatory."
   ]
  },
  {
   "cell_type": "code",
   "execution_count": 26,
   "metadata": {},
   "outputs": [
    {
     "data": {
      "text/plain": [
       "(354152, 11)"
      ]
     },
     "execution_count": 26,
     "metadata": {},
     "output_type": "execute_result"
    }
   ],
   "source": [
    "trips.num_rows, trips.num_columns"
   ]
  },
  {
   "cell_type": "markdown",
   "metadata": {},
   "source": [
    "To access the labels of the columns, `datascience` has `labels`, which is a tuple containing the column labels in numerical index order."
   ]
  },
  {
   "cell_type": "code",
   "execution_count": 6,
   "metadata": {},
   "outputs": [
    {
     "data": {
      "text/plain": [
       "('Trip ID',\n",
       " 'Duration',\n",
       " 'Start Date',\n",
       " 'Start Station',\n",
       " 'Start Terminal',\n",
       " 'End Date',\n",
       " 'End Station',\n",
       " 'End Terminal',\n",
       " 'Bike #',\n",
       " 'Subscriber Type',\n",
       " 'Zip Code')"
      ]
     },
     "execution_count": 6,
     "metadata": {},
     "output_type": "execute_result"
    }
   ],
   "source": [
    "trips.labels"
   ]
  },
  {
   "cell_type": "markdown",
   "metadata": {},
   "source": [
    "To add columns to a table, you pass a single label and set of values to `.with_column()` or a list of labels and pairs to `.with_columns()` (both shown below). **These functions do not edit the original table, so these modifications can only be saved by assigning them to the name of the table or a new variable name.**"
   ]
  },
  {
   "cell_type": "code",
   "execution_count": 51,
   "metadata": {},
   "outputs": [
    {
     "data": {
      "text/html": [
       "<table border=\"1\" class=\"dataframe\">\n",
       "    <thead>\n",
       "        <tr>\n",
       "            <th>Trip ID</th> <th>Duration</th> <th>Start Date</th> <th>Start Station</th> <th>Start Terminal</th> <th>End Date</th> <th>End Station</th> <th>End Terminal</th> <th>Bike #</th> <th>Subscriber Type</th> <th>Zip Code</th> <th>Duration^2</th> <th>Random Numbers</th>\n",
       "        </tr>\n",
       "    </thead>\n",
       "    <tbody>\n",
       "        <tr>\n",
       "            <td>913460 </td> <td>765     </td> <td>8/31/2015 23:26</td> <td>Harry Bridges Plaza (Ferry Building)         </td> <td>50            </td> <td>8/31/2015 23:39</td> <td>San Francisco Caltrain (Townsend at 4th)     </td> <td>70          </td> <td>288   </td> <td>Subscriber     </td> <td>2139    </td> <td>585225    </td> <td>3.97649       </td>\n",
       "        </tr>\n",
       "        <tr>\n",
       "            <td>913459 </td> <td>1036    </td> <td>8/31/2015 23:11</td> <td>San Antonio Shopping Center                  </td> <td>31            </td> <td>8/31/2015 23:28</td> <td>Mountain View City Hall                      </td> <td>27          </td> <td>35    </td> <td>Subscriber     </td> <td>95032   </td> <td>1073296   </td> <td>9.66107       </td>\n",
       "        </tr>\n",
       "        <tr>\n",
       "            <td>913455 </td> <td>307     </td> <td>8/31/2015 23:13</td> <td>Post at Kearny                               </td> <td>47            </td> <td>8/31/2015 23:18</td> <td>2nd at South Park                            </td> <td>64          </td> <td>468   </td> <td>Subscriber     </td> <td>94107   </td> <td>94249     </td> <td>4.42099       </td>\n",
       "        </tr>\n",
       "        <tr>\n",
       "            <td>913454 </td> <td>409     </td> <td>8/31/2015 23:10</td> <td>San Jose City Hall                           </td> <td>10            </td> <td>8/31/2015 23:17</td> <td>San Salvador at 1st                          </td> <td>8           </td> <td>68    </td> <td>Subscriber     </td> <td>95113   </td> <td>167281    </td> <td>2.93978       </td>\n",
       "        </tr>\n",
       "        <tr>\n",
       "            <td>913453 </td> <td>789     </td> <td>8/31/2015 23:09</td> <td>Embarcadero at Folsom                        </td> <td>51            </td> <td>8/31/2015 23:22</td> <td>Embarcadero at Sansome                       </td> <td>60          </td> <td>487   </td> <td>Customer       </td> <td>9069    </td> <td>622521    </td> <td>0.366959      </td>\n",
       "        </tr>\n",
       "        <tr>\n",
       "            <td>913452 </td> <td>293     </td> <td>8/31/2015 23:07</td> <td>Yerba Buena Center of the Arts (3rd @ Howard)</td> <td>68            </td> <td>8/31/2015 23:12</td> <td>San Francisco Caltrain (Townsend at 4th)     </td> <td>70          </td> <td>538   </td> <td>Subscriber     </td> <td>94118   </td> <td>85849     </td> <td>7.04519       </td>\n",
       "        </tr>\n",
       "        <tr>\n",
       "            <td>913451 </td> <td>896     </td> <td>8/31/2015 23:07</td> <td>Embarcadero at Folsom                        </td> <td>51            </td> <td>8/31/2015 23:22</td> <td>Embarcadero at Sansome                       </td> <td>60          </td> <td>363   </td> <td>Customer       </td> <td>92562   </td> <td>802816    </td> <td>5.80036       </td>\n",
       "        </tr>\n",
       "        <tr>\n",
       "            <td>913450 </td> <td>255     </td> <td>8/31/2015 22:16</td> <td>Embarcadero at Sansome                       </td> <td>60            </td> <td>8/31/2015 22:20</td> <td>Steuart at Market                            </td> <td>74          </td> <td>470   </td> <td>Subscriber     </td> <td>94111   </td> <td>65025     </td> <td>9.63289       </td>\n",
       "        </tr>\n",
       "        <tr>\n",
       "            <td>913449 </td> <td>126     </td> <td>8/31/2015 22:12</td> <td>Beale at Market                              </td> <td>56            </td> <td>8/31/2015 22:15</td> <td>Temporary Transbay Terminal (Howard at Beale)</td> <td>55          </td> <td>439   </td> <td>Subscriber     </td> <td>94130   </td> <td>15876     </td> <td>5.18192       </td>\n",
       "        </tr>\n",
       "        <tr>\n",
       "            <td>913448 </td> <td>932     </td> <td>8/31/2015 21:57</td> <td>Post at Kearny                               </td> <td>47            </td> <td>8/31/2015 22:12</td> <td>South Van Ness at Market                     </td> <td>66          </td> <td>472   </td> <td>Subscriber     </td> <td>94702   </td> <td>868624    </td> <td>6.55253       </td>\n",
       "        </tr>\n",
       "    </tbody>\n",
       "</table>\n",
       "<p>... (354142 rows omitted)</p>"
      ],
      "text/plain": [
       "Trip ID | Duration | Start Date      | Start Station                                 | Start Terminal | End Date        | End Station                                   | End Terminal | Bike # | Subscriber Type | Zip Code | Duration^2 | Random Numbers\n",
       "913460  | 765      | 8/31/2015 23:26 | Harry Bridges Plaza (Ferry Building)          | 50             | 8/31/2015 23:39 | San Francisco Caltrain (Townsend at 4th)      | 70           | 288    | Subscriber      | 2139     | 585225     | 3.97649\n",
       "913459  | 1036     | 8/31/2015 23:11 | San Antonio Shopping Center                   | 31             | 8/31/2015 23:28 | Mountain View City Hall                       | 27           | 35     | Subscriber      | 95032    | 1073296    | 9.66107\n",
       "913455  | 307      | 8/31/2015 23:13 | Post at Kearny                                | 47             | 8/31/2015 23:18 | 2nd at South Park                             | 64           | 468    | Subscriber      | 94107    | 94249      | 4.42099\n",
       "913454  | 409      | 8/31/2015 23:10 | San Jose City Hall                            | 10             | 8/31/2015 23:17 | San Salvador at 1st                           | 8            | 68     | Subscriber      | 95113    | 167281     | 2.93978\n",
       "913453  | 789      | 8/31/2015 23:09 | Embarcadero at Folsom                         | 51             | 8/31/2015 23:22 | Embarcadero at Sansome                        | 60           | 487    | Customer        | 9069     | 622521     | 0.366959\n",
       "913452  | 293      | 8/31/2015 23:07 | Yerba Buena Center of the Arts (3rd @ Howard) | 68             | 8/31/2015 23:12 | San Francisco Caltrain (Townsend at 4th)      | 70           | 538    | Subscriber      | 94118    | 85849      | 7.04519\n",
       "913451  | 896      | 8/31/2015 23:07 | Embarcadero at Folsom                         | 51             | 8/31/2015 23:22 | Embarcadero at Sansome                        | 60           | 363    | Customer        | 92562    | 802816     | 5.80036\n",
       "913450  | 255      | 8/31/2015 22:16 | Embarcadero at Sansome                        | 60             | 8/31/2015 22:20 | Steuart at Market                             | 74           | 470    | Subscriber      | 94111    | 65025      | 9.63289\n",
       "913449  | 126      | 8/31/2015 22:12 | Beale at Market                               | 56             | 8/31/2015 22:15 | Temporary Transbay Terminal (Howard at Beale) | 55           | 439    | Subscriber      | 94130    | 15876      | 5.18192\n",
       "913448  | 932      | 8/31/2015 21:57 | Post at Kearny                                | 47             | 8/31/2015 22:12 | South Van Ness at Market                      | 66           | 472    | Subscriber      | 94702    | 868624     | 6.55253\n",
       "... (354142 rows omitted)"
      ]
     },
     "execution_count": 51,
     "metadata": {},
     "output_type": "execute_result"
    }
   ],
   "source": [
    "# adding a single column\n",
    "some_random_numbers = np.random.uniform(0, 10, trips.num_rows)\n",
    "trips.with_column(\"Random Numbers\", some_random_numbers)"
   ]
  },
  {
   "cell_type": "code",
   "execution_count": 52,
   "metadata": {},
   "outputs": [
    {
     "data": {
      "text/html": [
       "<table border=\"1\" class=\"dataframe\">\n",
       "    <thead>\n",
       "        <tr>\n",
       "            <th>Trip ID</th> <th>Duration</th> <th>Start Date</th> <th>Start Station</th> <th>Start Terminal</th> <th>End Date</th> <th>End Station</th> <th>End Terminal</th> <th>Bike #</th> <th>Subscriber Type</th> <th>Zip Code</th> <th>Duration^2</th> <th>Random Numbers</th> <th>More Random Numbers</th>\n",
       "        </tr>\n",
       "    </thead>\n",
       "    <tbody>\n",
       "        <tr>\n",
       "            <td>913460 </td> <td>765     </td> <td>8/31/2015 23:26</td> <td>Harry Bridges Plaza (Ferry Building)         </td> <td>50            </td> <td>8/31/2015 23:39</td> <td>San Francisco Caltrain (Townsend at 4th)     </td> <td>70          </td> <td>288   </td> <td>Subscriber     </td> <td>2139    </td> <td>585225    </td> <td>3.97649       </td> <td>-5.04509           </td>\n",
       "        </tr>\n",
       "        <tr>\n",
       "            <td>913459 </td> <td>1036    </td> <td>8/31/2015 23:11</td> <td>San Antonio Shopping Center                  </td> <td>31            </td> <td>8/31/2015 23:28</td> <td>Mountain View City Hall                      </td> <td>27          </td> <td>35    </td> <td>Subscriber     </td> <td>95032   </td> <td>1073296   </td> <td>9.66107       </td> <td>-3.13004           </td>\n",
       "        </tr>\n",
       "        <tr>\n",
       "            <td>913455 </td> <td>307     </td> <td>8/31/2015 23:13</td> <td>Post at Kearny                               </td> <td>47            </td> <td>8/31/2015 23:18</td> <td>2nd at South Park                            </td> <td>64          </td> <td>468   </td> <td>Subscriber     </td> <td>94107   </td> <td>94249     </td> <td>4.42099       </td> <td>-5.79655           </td>\n",
       "        </tr>\n",
       "        <tr>\n",
       "            <td>913454 </td> <td>409     </td> <td>8/31/2015 23:10</td> <td>San Jose City Hall                           </td> <td>10            </td> <td>8/31/2015 23:17</td> <td>San Salvador at 1st                          </td> <td>8           </td> <td>68    </td> <td>Subscriber     </td> <td>95113   </td> <td>167281    </td> <td>2.93978       </td> <td>-9.60411           </td>\n",
       "        </tr>\n",
       "        <tr>\n",
       "            <td>913453 </td> <td>789     </td> <td>8/31/2015 23:09</td> <td>Embarcadero at Folsom                        </td> <td>51            </td> <td>8/31/2015 23:22</td> <td>Embarcadero at Sansome                       </td> <td>60          </td> <td>487   </td> <td>Customer       </td> <td>9069    </td> <td>622521    </td> <td>0.366959      </td> <td>-13.6186           </td>\n",
       "        </tr>\n",
       "        <tr>\n",
       "            <td>913452 </td> <td>293     </td> <td>8/31/2015 23:07</td> <td>Yerba Buena Center of the Arts (3rd @ Howard)</td> <td>68            </td> <td>8/31/2015 23:12</td> <td>San Francisco Caltrain (Townsend at 4th)     </td> <td>70          </td> <td>538   </td> <td>Subscriber     </td> <td>94118   </td> <td>85849     </td> <td>7.04519       </td> <td>-4.20664           </td>\n",
       "        </tr>\n",
       "        <tr>\n",
       "            <td>913451 </td> <td>896     </td> <td>8/31/2015 23:07</td> <td>Embarcadero at Folsom                        </td> <td>51            </td> <td>8/31/2015 23:22</td> <td>Embarcadero at Sansome                       </td> <td>60          </td> <td>363   </td> <td>Customer       </td> <td>92562   </td> <td>802816    </td> <td>5.80036       </td> <td>15.7849            </td>\n",
       "        </tr>\n",
       "        <tr>\n",
       "            <td>913450 </td> <td>255     </td> <td>8/31/2015 22:16</td> <td>Embarcadero at Sansome                       </td> <td>60            </td> <td>8/31/2015 22:20</td> <td>Steuart at Market                            </td> <td>74          </td> <td>470   </td> <td>Subscriber     </td> <td>94111   </td> <td>65025     </td> <td>9.63289       </td> <td>4.27791            </td>\n",
       "        </tr>\n",
       "        <tr>\n",
       "            <td>913449 </td> <td>126     </td> <td>8/31/2015 22:12</td> <td>Beale at Market                              </td> <td>56            </td> <td>8/31/2015 22:15</td> <td>Temporary Transbay Terminal (Howard at Beale)</td> <td>55          </td> <td>439   </td> <td>Subscriber     </td> <td>94130   </td> <td>15876     </td> <td>5.18192       </td> <td>-9.66671           </td>\n",
       "        </tr>\n",
       "        <tr>\n",
       "            <td>913448 </td> <td>932     </td> <td>8/31/2015 21:57</td> <td>Post at Kearny                               </td> <td>47            </td> <td>8/31/2015 22:12</td> <td>South Van Ness at Market                     </td> <td>66          </td> <td>472   </td> <td>Subscriber     </td> <td>94702   </td> <td>868624    </td> <td>6.55253       </td> <td>-2.43292           </td>\n",
       "        </tr>\n",
       "    </tbody>\n",
       "</table>\n",
       "<p>... (354142 rows omitted)</p>"
      ],
      "text/plain": [
       "Trip ID | Duration | Start Date      | Start Station                                 | Start Terminal | End Date        | End Station                                   | End Terminal | Bike # | Subscriber Type | Zip Code | Duration^2 | Random Numbers | More Random Numbers\n",
       "913460  | 765      | 8/31/2015 23:26 | Harry Bridges Plaza (Ferry Building)          | 50             | 8/31/2015 23:39 | San Francisco Caltrain (Townsend at 4th)      | 70           | 288    | Subscriber      | 2139     | 585225     | 3.97649        | -5.04509\n",
       "913459  | 1036     | 8/31/2015 23:11 | San Antonio Shopping Center                   | 31             | 8/31/2015 23:28 | Mountain View City Hall                       | 27           | 35     | Subscriber      | 95032    | 1073296    | 9.66107        | -3.13004\n",
       "913455  | 307      | 8/31/2015 23:13 | Post at Kearny                                | 47             | 8/31/2015 23:18 | 2nd at South Park                             | 64           | 468    | Subscriber      | 94107    | 94249      | 4.42099        | -5.79655\n",
       "913454  | 409      | 8/31/2015 23:10 | San Jose City Hall                            | 10             | 8/31/2015 23:17 | San Salvador at 1st                           | 8            | 68     | Subscriber      | 95113    | 167281     | 2.93978        | -9.60411\n",
       "913453  | 789      | 8/31/2015 23:09 | Embarcadero at Folsom                         | 51             | 8/31/2015 23:22 | Embarcadero at Sansome                        | 60           | 487    | Customer        | 9069     | 622521     | 0.366959       | -13.6186\n",
       "913452  | 293      | 8/31/2015 23:07 | Yerba Buena Center of the Arts (3rd @ Howard) | 68             | 8/31/2015 23:12 | San Francisco Caltrain (Townsend at 4th)      | 70           | 538    | Subscriber      | 94118    | 85849      | 7.04519        | -4.20664\n",
       "913451  | 896      | 8/31/2015 23:07 | Embarcadero at Folsom                         | 51             | 8/31/2015 23:22 | Embarcadero at Sansome                        | 60           | 363    | Customer        | 92562    | 802816     | 5.80036        | 15.7849\n",
       "913450  | 255      | 8/31/2015 22:16 | Embarcadero at Sansome                        | 60             | 8/31/2015 22:20 | Steuart at Market                             | 74           | 470    | Subscriber      | 94111    | 65025      | 9.63289        | 4.27791\n",
       "913449  | 126      | 8/31/2015 22:12 | Beale at Market                               | 56             | 8/31/2015 22:15 | Temporary Transbay Terminal (Howard at Beale) | 55           | 439    | Subscriber      | 94130    | 15876      | 5.18192        | -9.66671\n",
       "913448  | 932      | 8/31/2015 21:57 | Post at Kearny                                | 47             | 8/31/2015 22:12 | South Van Ness at Market                      | 66           | 472    | Subscriber      | 94702    | 868624     | 6.55253        | -2.43292\n",
       "... (354142 rows omitted)"
      ]
     },
     "execution_count": 52,
     "metadata": {},
     "output_type": "execute_result"
    }
   ],
   "source": [
    "# adding multiple columns\n",
    "some_more_random_numbers = np.random.normal(0, 10, trips.num_rows)\n",
    "trips.with_columns(\n",
    "    \"Random Numbers\", some_random_numbers,\n",
    "    \"More Random Numbers\", some_more_random_numbers\n",
    ")"
   ]
  },
  {
   "cell_type": "markdown",
   "metadata": {},
   "source": [
    "Note that in the `.with_columns()` call, the column labels and values alternate; that is, the call should have the form\n",
    "\n",
    "```python\n",
    "tbl.with_columns(\n",
    "    \"Label 1\", values_1,\n",
    "    \"Label 2\", values_2,\n",
    "    \"Label 3\", values_3,\n",
    "    ...\n",
    ")\n",
    "```\n",
    "\n",
    "It is also important that the values argument(s) have the same number of rows as the table they are being added to. A single value entered as this argument will be broadcast to the entire table, but any length besides 1 or the number of rows in the table will throw an error."
   ]
  },
  {
   "cell_type": "markdown",
   "metadata": {},
   "source": [
    "It is also possible to change the labels of columns using the `.relabeled()` method."
   ]
  },
  {
   "cell_type": "code",
   "execution_count": 56,
   "metadata": {},
   "outputs": [
    {
     "data": {
      "text/html": [
       "<table border=\"1\" class=\"dataframe\">\n",
       "    <thead>\n",
       "        <tr>\n",
       "            <th>Trip ID</th> <th>Time</th> <th>Start Date</th> <th>Start Station</th> <th>Start Terminal</th> <th>End Date</th> <th>End Station</th> <th>End Terminal</th> <th>Bike #</th> <th>Subscriber Type</th> <th>Zip Code</th> <th>Duration^2</th>\n",
       "        </tr>\n",
       "    </thead>\n",
       "    <tbody>\n",
       "        <tr>\n",
       "            <td>913460 </td> <td>765 </td> <td>8/31/2015 23:26</td> <td>Harry Bridges Plaza (Ferry Building)         </td> <td>50            </td> <td>8/31/2015 23:39</td> <td>San Francisco Caltrain (Townsend at 4th)     </td> <td>70          </td> <td>288   </td> <td>Subscriber     </td> <td>2139    </td> <td>585225    </td>\n",
       "        </tr>\n",
       "        <tr>\n",
       "            <td>913459 </td> <td>1036</td> <td>8/31/2015 23:11</td> <td>San Antonio Shopping Center                  </td> <td>31            </td> <td>8/31/2015 23:28</td> <td>Mountain View City Hall                      </td> <td>27          </td> <td>35    </td> <td>Subscriber     </td> <td>95032   </td> <td>1073296   </td>\n",
       "        </tr>\n",
       "        <tr>\n",
       "            <td>913455 </td> <td>307 </td> <td>8/31/2015 23:13</td> <td>Post at Kearny                               </td> <td>47            </td> <td>8/31/2015 23:18</td> <td>2nd at South Park                            </td> <td>64          </td> <td>468   </td> <td>Subscriber     </td> <td>94107   </td> <td>94249     </td>\n",
       "        </tr>\n",
       "        <tr>\n",
       "            <td>913454 </td> <td>409 </td> <td>8/31/2015 23:10</td> <td>San Jose City Hall                           </td> <td>10            </td> <td>8/31/2015 23:17</td> <td>San Salvador at 1st                          </td> <td>8           </td> <td>68    </td> <td>Subscriber     </td> <td>95113   </td> <td>167281    </td>\n",
       "        </tr>\n",
       "        <tr>\n",
       "            <td>913453 </td> <td>789 </td> <td>8/31/2015 23:09</td> <td>Embarcadero at Folsom                        </td> <td>51            </td> <td>8/31/2015 23:22</td> <td>Embarcadero at Sansome                       </td> <td>60          </td> <td>487   </td> <td>Customer       </td> <td>9069    </td> <td>622521    </td>\n",
       "        </tr>\n",
       "        <tr>\n",
       "            <td>913452 </td> <td>293 </td> <td>8/31/2015 23:07</td> <td>Yerba Buena Center of the Arts (3rd @ Howard)</td> <td>68            </td> <td>8/31/2015 23:12</td> <td>San Francisco Caltrain (Townsend at 4th)     </td> <td>70          </td> <td>538   </td> <td>Subscriber     </td> <td>94118   </td> <td>85849     </td>\n",
       "        </tr>\n",
       "        <tr>\n",
       "            <td>913451 </td> <td>896 </td> <td>8/31/2015 23:07</td> <td>Embarcadero at Folsom                        </td> <td>51            </td> <td>8/31/2015 23:22</td> <td>Embarcadero at Sansome                       </td> <td>60          </td> <td>363   </td> <td>Customer       </td> <td>92562   </td> <td>802816    </td>\n",
       "        </tr>\n",
       "        <tr>\n",
       "            <td>913450 </td> <td>255 </td> <td>8/31/2015 22:16</td> <td>Embarcadero at Sansome                       </td> <td>60            </td> <td>8/31/2015 22:20</td> <td>Steuart at Market                            </td> <td>74          </td> <td>470   </td> <td>Subscriber     </td> <td>94111   </td> <td>65025     </td>\n",
       "        </tr>\n",
       "        <tr>\n",
       "            <td>913449 </td> <td>126 </td> <td>8/31/2015 22:12</td> <td>Beale at Market                              </td> <td>56            </td> <td>8/31/2015 22:15</td> <td>Temporary Transbay Terminal (Howard at Beale)</td> <td>55          </td> <td>439   </td> <td>Subscriber     </td> <td>94130   </td> <td>15876     </td>\n",
       "        </tr>\n",
       "        <tr>\n",
       "            <td>913448 </td> <td>932 </td> <td>8/31/2015 21:57</td> <td>Post at Kearny                               </td> <td>47            </td> <td>8/31/2015 22:12</td> <td>South Van Ness at Market                     </td> <td>66          </td> <td>472   </td> <td>Subscriber     </td> <td>94702   </td> <td>868624    </td>\n",
       "        </tr>\n",
       "    </tbody>\n",
       "</table>\n",
       "<p>... (354142 rows omitted)</p>"
      ],
      "text/plain": [
       "Trip ID | Time | Start Date      | Start Station                                 | Start Terminal | End Date        | End Station                                   | End Terminal | Bike # | Subscriber Type | Zip Code | Duration^2\n",
       "913460  | 765  | 8/31/2015 23:26 | Harry Bridges Plaza (Ferry Building)          | 50             | 8/31/2015 23:39 | San Francisco Caltrain (Townsend at 4th)      | 70           | 288    | Subscriber      | 2139     | 585225\n",
       "913459  | 1036 | 8/31/2015 23:11 | San Antonio Shopping Center                   | 31             | 8/31/2015 23:28 | Mountain View City Hall                       | 27           | 35     | Subscriber      | 95032    | 1073296\n",
       "913455  | 307  | 8/31/2015 23:13 | Post at Kearny                                | 47             | 8/31/2015 23:18 | 2nd at South Park                             | 64           | 468    | Subscriber      | 94107    | 94249\n",
       "913454  | 409  | 8/31/2015 23:10 | San Jose City Hall                            | 10             | 8/31/2015 23:17 | San Salvador at 1st                           | 8            | 68     | Subscriber      | 95113    | 167281\n",
       "913453  | 789  | 8/31/2015 23:09 | Embarcadero at Folsom                         | 51             | 8/31/2015 23:22 | Embarcadero at Sansome                        | 60           | 487    | Customer        | 9069     | 622521\n",
       "913452  | 293  | 8/31/2015 23:07 | Yerba Buena Center of the Arts (3rd @ Howard) | 68             | 8/31/2015 23:12 | San Francisco Caltrain (Townsend at 4th)      | 70           | 538    | Subscriber      | 94118    | 85849\n",
       "913451  | 896  | 8/31/2015 23:07 | Embarcadero at Folsom                         | 51             | 8/31/2015 23:22 | Embarcadero at Sansome                        | 60           | 363    | Customer        | 92562    | 802816\n",
       "913450  | 255  | 8/31/2015 22:16 | Embarcadero at Sansome                        | 60             | 8/31/2015 22:20 | Steuart at Market                             | 74           | 470    | Subscriber      | 94111    | 65025\n",
       "913449  | 126  | 8/31/2015 22:12 | Beale at Market                               | 56             | 8/31/2015 22:15 | Temporary Transbay Terminal (Howard at Beale) | 55           | 439    | Subscriber      | 94130    | 15876\n",
       "913448  | 932  | 8/31/2015 21:57 | Post at Kearny                                | 47             | 8/31/2015 22:12 | South Van Ness at Market                      | 66           | 472    | Subscriber      | 94702    | 868624\n",
       "... (354142 rows omitted)"
      ]
     },
     "execution_count": 56,
     "metadata": {},
     "output_type": "execute_result"
    }
   ],
   "source": [
    "trips.relabeled(\"Duration\", \"Time\")"
   ]
  },
  {
   "cell_type": "markdown",
   "metadata": {},
   "source": [
    "### Accessing Values\n",
    "\n",
    "For all non-continuous variables, it is usually important to understand the possible values of the variable; that is, to know the variable's _unique_ values. While `datascience` does not have a built-in method, it is a simple thing to export a column as an array and pass it to `np.unique`."
   ]
  },
  {
   "cell_type": "code",
   "execution_count": 27,
   "metadata": {},
   "outputs": [
    {
     "data": {
      "text/plain": [
       "array(['1/1/2015 0:25', '1/1/2015 0:28', '1/1/2015 0:30', ...,\n",
       "       '9/9/2014 9:54', '9/9/2014 9:55', '9/9/2014 9:59'], dtype='<U16')"
      ]
     },
     "execution_count": 27,
     "metadata": {},
     "output_type": "execute_result"
    }
   ],
   "source": [
    "np.unique(trips.column('Start Date'))"
   ]
  },
  {
   "cell_type": "markdown",
   "metadata": {},
   "source": [
    "The `datascience` library provides the `.where()` method to filter rows, which uses a column name and a predicate function."
   ]
  },
  {
   "cell_type": "code",
   "execution_count": 32,
   "metadata": {},
   "outputs": [
    {
     "data": {
      "text/html": [
       "<table border=\"1\" class=\"dataframe\">\n",
       "    <thead>\n",
       "        <tr>\n",
       "            <th>Trip ID</th> <th>Duration</th> <th>Start Date</th> <th>Start Station</th> <th>Start Terminal</th> <th>End Date</th> <th>End Station</th> <th>End Terminal</th> <th>Bike #</th> <th>Subscriber Type</th> <th>Zip Code</th>\n",
       "        </tr>\n",
       "    </thead>\n",
       "    <tbody>\n",
       "        <tr>\n",
       "            <td>913212 </td> <td>73      </td> <td>8/31/2015 18:39</td> <td>5th at Howard           </td> <td>57            </td> <td>8/31/2015 18:40</td> <td>5th at Howard                                </td> <td>57          </td> <td>456   </td> <td>Subscriber     </td> <td>94107   </td>\n",
       "        </tr>\n",
       "        <tr>\n",
       "            <td>912621 </td> <td>99      </td> <td>8/31/2015 15:49</td> <td>Embarcadero at Vallejo  </td> <td>48            </td> <td>8/31/2015 15:51</td> <td>Davis at Jackson                             </td> <td>42          </td> <td>320   </td> <td>Subscriber     </td> <td>94112   </td>\n",
       "        </tr>\n",
       "        <tr>\n",
       "            <td>912461 </td> <td>86      </td> <td>8/31/2015 12:42</td> <td>Beale at Market         </td> <td>56            </td> <td>8/31/2015 12:44</td> <td>Temporary Transbay Terminal (Howard at Beale)</td> <td>55          </td> <td>406   </td> <td>Subscriber     </td> <td>94010   </td>\n",
       "        </tr>\n",
       "        <tr>\n",
       "            <td>912403 </td> <td>88      </td> <td>8/31/2015 11:39</td> <td>Beale at Market         </td> <td>56            </td> <td>8/31/2015 11:40</td> <td>Temporary Transbay Terminal (Howard at Beale)</td> <td>55          </td> <td>361   </td> <td>Subscriber     </td> <td>94114   </td>\n",
       "        </tr>\n",
       "        <tr>\n",
       "            <td>911322 </td> <td>84      </td> <td>8/30/2015 12:09</td> <td>Davis at Jackson        </td> <td>42            </td> <td>8/30/2015 12:10</td> <td>Davis at Jackson                             </td> <td>42          </td> <td>520   </td> <td>Customer       </td> <td>19010   </td>\n",
       "        </tr>\n",
       "        <tr>\n",
       "            <td>911190 </td> <td>86      </td> <td>8/30/2015 4:32 </td> <td>Steuart at Market       </td> <td>74            </td> <td>8/30/2015 4:33 </td> <td>Steuart at Market                            </td> <td>74          </td> <td>608   </td> <td>Customer       </td> <td>95035   </td>\n",
       "        </tr>\n",
       "        <tr>\n",
       "            <td>911156 </td> <td>70      </td> <td>8/29/2015 20:12</td> <td>South Van Ness at Market</td> <td>66            </td> <td>8/29/2015 20:14</td> <td>South Van Ness at Market                     </td> <td>66          </td> <td>564   </td> <td>Customer       </td> <td>44      </td>\n",
       "        </tr>\n",
       "        <tr>\n",
       "            <td>910168 </td> <td>62      </td> <td>8/28/2015 16:32</td> <td>Embarcadero at Sansome  </td> <td>60            </td> <td>8/28/2015 16:33</td> <td>Embarcadero at Sansome                       </td> <td>60          </td> <td>535   </td> <td>Customer       </td> <td>18977   </td>\n",
       "        </tr>\n",
       "        <tr>\n",
       "            <td>909789 </td> <td>89      </td> <td>8/28/2015 10:39</td> <td>Beale at Market         </td> <td>56            </td> <td>8/28/2015 10:40</td> <td>Temporary Transbay Terminal (Howard at Beale)</td> <td>55          </td> <td>334   </td> <td>Subscriber     </td> <td>94114   </td>\n",
       "        </tr>\n",
       "        <tr>\n",
       "            <td>909719 </td> <td>73      </td> <td>8/28/2015 9:50 </td> <td>2nd at South Park       </td> <td>64            </td> <td>8/28/2015 9:51 </td> <td>2nd at Townsend                              </td> <td>61          </td> <td>375   </td> <td>Subscriber     </td> <td>94107   </td>\n",
       "        </tr>\n",
       "    </tbody>\n",
       "</table>\n",
       "<p>... (1331 rows omitted)</p>"
      ],
      "text/plain": [
       "Trip ID | Duration | Start Date      | Start Station            | Start Terminal | End Date        | End Station                                   | End Terminal | Bike # | Subscriber Type | Zip Code\n",
       "913212  | 73       | 8/31/2015 18:39 | 5th at Howard            | 57             | 8/31/2015 18:40 | 5th at Howard                                 | 57           | 456    | Subscriber      | 94107\n",
       "912621  | 99       | 8/31/2015 15:49 | Embarcadero at Vallejo   | 48             | 8/31/2015 15:51 | Davis at Jackson                              | 42           | 320    | Subscriber      | 94112\n",
       "912461  | 86       | 8/31/2015 12:42 | Beale at Market          | 56             | 8/31/2015 12:44 | Temporary Transbay Terminal (Howard at Beale) | 55           | 406    | Subscriber      | 94010\n",
       "912403  | 88       | 8/31/2015 11:39 | Beale at Market          | 56             | 8/31/2015 11:40 | Temporary Transbay Terminal (Howard at Beale) | 55           | 361    | Subscriber      | 94114\n",
       "911322  | 84       | 8/30/2015 12:09 | Davis at Jackson         | 42             | 8/30/2015 12:10 | Davis at Jackson                              | 42           | 520    | Customer        | 19010\n",
       "911190  | 86       | 8/30/2015 4:32  | Steuart at Market        | 74             | 8/30/2015 4:33  | Steuart at Market                             | 74           | 608    | Customer        | 95035\n",
       "911156  | 70       | 8/29/2015 20:12 | South Van Ness at Market | 66             | 8/29/2015 20:14 | South Van Ness at Market                      | 66           | 564    | Customer        | 44\n",
       "910168  | 62       | 8/28/2015 16:32 | Embarcadero at Sansome   | 60             | 8/28/2015 16:33 | Embarcadero at Sansome                        | 60           | 535    | Customer        | 18977\n",
       "909789  | 89       | 8/28/2015 10:39 | Beale at Market          | 56             | 8/28/2015 10:40 | Temporary Transbay Terminal (Howard at Beale) | 55           | 334    | Subscriber      | 94114\n",
       "909719  | 73       | 8/28/2015 9:50  | 2nd at South Park        | 64             | 8/28/2015 9:51  | 2nd at Townsend                               | 61           | 375    | Subscriber      | 94107\n",
       "... (1331 rows omitted)"
      ]
     },
     "execution_count": 32,
     "metadata": {},
     "output_type": "execute_result"
    }
   ],
   "source": [
    "trips.where(\"Duration\", lambda x: x < 100)"
   ]
  },
  {
   "cell_type": "markdown",
   "metadata": {},
   "source": [
    "The library also provides the `are` class to create predicate functions. Each method of this class returns a boolean function that can be called on a value. For example, if we wanted a function that checked whether or not a value is greater than or equal to 1000, we could use the call below:"
   ]
  },
  {
   "cell_type": "code",
   "execution_count": 35,
   "metadata": {},
   "outputs": [
    {
     "data": {
      "text/plain": [
       "<datascience.predicates._combinable at 0x15c1e0dd8>"
      ]
     },
     "execution_count": 35,
     "metadata": {},
     "output_type": "execute_result"
    }
   ],
   "source": [
    "are.above_or_equal_to(1000)"
   ]
  },
  {
   "cell_type": "markdown",
   "metadata": {},
   "source": [
    "You can pass these `are` objects to the `.where()` method to use as predicate functions. This is how students in Data 8 are taught to filter rows."
   ]
  },
  {
   "cell_type": "code",
   "execution_count": 36,
   "metadata": {},
   "outputs": [
    {
     "data": {
      "text/html": [
       "<table border=\"1\" class=\"dataframe\">\n",
       "    <thead>\n",
       "        <tr>\n",
       "            <th>Trip ID</th> <th>Duration</th> <th>Start Date</th> <th>Start Station</th> <th>Start Terminal</th> <th>End Date</th> <th>End Station</th> <th>End Terminal</th> <th>Bike #</th> <th>Subscriber Type</th> <th>Zip Code</th>\n",
       "        </tr>\n",
       "    </thead>\n",
       "    <tbody>\n",
       "        <tr>\n",
       "            <td>913212 </td> <td>73      </td> <td>8/31/2015 18:39</td> <td>5th at Howard           </td> <td>57            </td> <td>8/31/2015 18:40</td> <td>5th at Howard                                </td> <td>57          </td> <td>456   </td> <td>Subscriber     </td> <td>94107   </td>\n",
       "        </tr>\n",
       "        <tr>\n",
       "            <td>912621 </td> <td>99      </td> <td>8/31/2015 15:49</td> <td>Embarcadero at Vallejo  </td> <td>48            </td> <td>8/31/2015 15:51</td> <td>Davis at Jackson                             </td> <td>42          </td> <td>320   </td> <td>Subscriber     </td> <td>94112   </td>\n",
       "        </tr>\n",
       "        <tr>\n",
       "            <td>912461 </td> <td>86      </td> <td>8/31/2015 12:42</td> <td>Beale at Market         </td> <td>56            </td> <td>8/31/2015 12:44</td> <td>Temporary Transbay Terminal (Howard at Beale)</td> <td>55          </td> <td>406   </td> <td>Subscriber     </td> <td>94010   </td>\n",
       "        </tr>\n",
       "        <tr>\n",
       "            <td>912403 </td> <td>88      </td> <td>8/31/2015 11:39</td> <td>Beale at Market         </td> <td>56            </td> <td>8/31/2015 11:40</td> <td>Temporary Transbay Terminal (Howard at Beale)</td> <td>55          </td> <td>361   </td> <td>Subscriber     </td> <td>94114   </td>\n",
       "        </tr>\n",
       "        <tr>\n",
       "            <td>911322 </td> <td>84      </td> <td>8/30/2015 12:09</td> <td>Davis at Jackson        </td> <td>42            </td> <td>8/30/2015 12:10</td> <td>Davis at Jackson                             </td> <td>42          </td> <td>520   </td> <td>Customer       </td> <td>19010   </td>\n",
       "        </tr>\n",
       "        <tr>\n",
       "            <td>911190 </td> <td>86      </td> <td>8/30/2015 4:32 </td> <td>Steuart at Market       </td> <td>74            </td> <td>8/30/2015 4:33 </td> <td>Steuart at Market                            </td> <td>74          </td> <td>608   </td> <td>Customer       </td> <td>95035   </td>\n",
       "        </tr>\n",
       "        <tr>\n",
       "            <td>911156 </td> <td>70      </td> <td>8/29/2015 20:12</td> <td>South Van Ness at Market</td> <td>66            </td> <td>8/29/2015 20:14</td> <td>South Van Ness at Market                     </td> <td>66          </td> <td>564   </td> <td>Customer       </td> <td>44      </td>\n",
       "        </tr>\n",
       "        <tr>\n",
       "            <td>910168 </td> <td>62      </td> <td>8/28/2015 16:32</td> <td>Embarcadero at Sansome  </td> <td>60            </td> <td>8/28/2015 16:33</td> <td>Embarcadero at Sansome                       </td> <td>60          </td> <td>535   </td> <td>Customer       </td> <td>18977   </td>\n",
       "        </tr>\n",
       "        <tr>\n",
       "            <td>909789 </td> <td>89      </td> <td>8/28/2015 10:39</td> <td>Beale at Market         </td> <td>56            </td> <td>8/28/2015 10:40</td> <td>Temporary Transbay Terminal (Howard at Beale)</td> <td>55          </td> <td>334   </td> <td>Subscriber     </td> <td>94114   </td>\n",
       "        </tr>\n",
       "        <tr>\n",
       "            <td>909719 </td> <td>73      </td> <td>8/28/2015 9:50 </td> <td>2nd at South Park       </td> <td>64            </td> <td>8/28/2015 9:51 </td> <td>2nd at Townsend                              </td> <td>61          </td> <td>375   </td> <td>Subscriber     </td> <td>94107   </td>\n",
       "        </tr>\n",
       "    </tbody>\n",
       "</table>\n",
       "<p>... (1331 rows omitted)</p>"
      ],
      "text/plain": [
       "Trip ID | Duration | Start Date      | Start Station            | Start Terminal | End Date        | End Station                                   | End Terminal | Bike # | Subscriber Type | Zip Code\n",
       "913212  | 73       | 8/31/2015 18:39 | 5th at Howard            | 57             | 8/31/2015 18:40 | 5th at Howard                                 | 57           | 456    | Subscriber      | 94107\n",
       "912621  | 99       | 8/31/2015 15:49 | Embarcadero at Vallejo   | 48             | 8/31/2015 15:51 | Davis at Jackson                              | 42           | 320    | Subscriber      | 94112\n",
       "912461  | 86       | 8/31/2015 12:42 | Beale at Market          | 56             | 8/31/2015 12:44 | Temporary Transbay Terminal (Howard at Beale) | 55           | 406    | Subscriber      | 94010\n",
       "912403  | 88       | 8/31/2015 11:39 | Beale at Market          | 56             | 8/31/2015 11:40 | Temporary Transbay Terminal (Howard at Beale) | 55           | 361    | Subscriber      | 94114\n",
       "911322  | 84       | 8/30/2015 12:09 | Davis at Jackson         | 42             | 8/30/2015 12:10 | Davis at Jackson                              | 42           | 520    | Customer        | 19010\n",
       "911190  | 86       | 8/30/2015 4:32  | Steuart at Market        | 74             | 8/30/2015 4:33  | Steuart at Market                             | 74           | 608    | Customer        | 95035\n",
       "911156  | 70       | 8/29/2015 20:12 | South Van Ness at Market | 66             | 8/29/2015 20:14 | South Van Ness at Market                      | 66           | 564    | Customer        | 44\n",
       "910168  | 62       | 8/28/2015 16:32 | Embarcadero at Sansome   | 60             | 8/28/2015 16:33 | Embarcadero at Sansome                        | 60           | 535    | Customer        | 18977\n",
       "909789  | 89       | 8/28/2015 10:39 | Beale at Market          | 56             | 8/28/2015 10:40 | Temporary Transbay Terminal (Howard at Beale) | 55           | 334    | Subscriber      | 94114\n",
       "909719  | 73       | 8/28/2015 9:50  | 2nd at South Park        | 64             | 8/28/2015 9:51  | 2nd at Townsend                               | 61           | 375    | Subscriber      | 94107\n",
       "... (1331 rows omitted)"
      ]
     },
     "execution_count": 36,
     "metadata": {},
     "output_type": "execute_result"
    }
   ],
   "source": [
    "trips.where(\"Duration\", are.below(100))"
   ]
  },
  {
   "cell_type": "markdown",
   "metadata": {},
   "source": [
    "For a full list of predicate functions, see the [`datascience.predicates` documentation](http://data8.org/datascience/predicates.html)."
   ]
  },
  {
   "cell_type": "markdown",
   "metadata": {},
   "source": [
    "To sort the rows of a table, use the `.sort()` method. It defaults to ascending, so to get values in `descending` order the `descending` argument must be set to `True`."
   ]
  },
  {
   "cell_type": "code",
   "execution_count": 57,
   "metadata": {},
   "outputs": [
    {
     "data": {
      "text/html": [
       "<table border=\"1\" class=\"dataframe\">\n",
       "    <thead>\n",
       "        <tr>\n",
       "            <th>Trip ID</th> <th>Duration</th> <th>Start Date</th> <th>Start Station</th> <th>Start Terminal</th> <th>End Date</th> <th>End Station</th> <th>End Terminal</th> <th>Bike #</th> <th>Subscriber Type</th> <th>Zip Code</th> <th>Duration^2</th>\n",
       "        </tr>\n",
       "    </thead>\n",
       "    <tbody>\n",
       "        <tr>\n",
       "            <td>568474 </td> <td>17270400</td> <td>12/6/2014 21:59</td> <td>South Van Ness at Market     </td> <td>66            </td> <td>6/24/2015 20:18</td> <td>2nd at Folsom                                </td> <td>62          </td> <td>535   </td> <td>Customer       </td> <td>95531   </td> <td>298266716160000</td>\n",
       "        </tr>\n",
       "        <tr>\n",
       "            <td>825850 </td> <td>2137000 </td> <td>6/28/2015 21:50</td> <td>Market at Sansome            </td> <td>77            </td> <td>7/23/2015 15:27</td> <td>Yerba Buena Center of the Arts (3rd @ Howard)</td> <td>68          </td> <td>466   </td> <td>Customer       </td> <td>97213   </td> <td>4566769000000  </td>\n",
       "        </tr>\n",
       "        <tr>\n",
       "            <td>750192 </td> <td>1852590 </td> <td>5/2/2015 6:17  </td> <td>San Antonio Shopping Center  </td> <td>31            </td> <td>5/23/2015 16:53</td> <td>Castro Street and El Camino Real             </td> <td>32          </td> <td>680   </td> <td>Subscriber     </td> <td>94024   </td> <td>3432089708100  </td>\n",
       "        </tr>\n",
       "        <tr>\n",
       "            <td>841176 </td> <td>1133540 </td> <td>7/10/2015 10:35</td> <td>University and Emerson       </td> <td>35            </td> <td>7/23/2015 13:27</td> <td>University and Emerson                       </td> <td>35          </td> <td>262   </td> <td>Customer       </td> <td>94306   </td> <td>1284912931600  </td>\n",
       "        </tr>\n",
       "        <tr>\n",
       "            <td>522337 </td> <td>720454  </td> <td>10/30/2014 8:29</td> <td>Redwood City Caltrain Station</td> <td>22            </td> <td>11/7/2014 15:36</td> <td>Stanford in Redwood City                     </td> <td>25          </td> <td>692   </td> <td>Customer       </td> <td>94010   </td> <td>519053966116   </td>\n",
       "        </tr>\n",
       "        <tr>\n",
       "            <td>774999 </td> <td>688899  </td> <td>5/20/2015 15:27</td> <td>Palo Alto Caltrain Station   </td> <td>34            </td> <td>5/28/2015 14:49</td> <td>California Ave Caltrain Station              </td> <td>36          </td> <td>230   </td> <td>Customer       </td> <td>nil     </td> <td>474581832201   </td>\n",
       "        </tr>\n",
       "        <tr>\n",
       "            <td>635260 </td> <td>655939  </td> <td>2/8/2015 3:05  </td> <td>San Jose Civic Center        </td> <td>3             </td> <td>2/15/2015 17:17</td> <td>SJSU 4th at San Carlos                       </td> <td>12          </td> <td>132   </td> <td>Customer       </td> <td>89451   </td> <td>430255971721   </td>\n",
       "        </tr>\n",
       "        <tr>\n",
       "            <td>745640 </td> <td>611240  </td> <td>4/29/2015 9:41 </td> <td>University and Emerson       </td> <td>35            </td> <td>5/6/2015 11:28 </td> <td>San Antonio Shopping Center                  </td> <td>31          </td> <td>196   </td> <td>Customer       </td> <td>81      </td> <td>373614337600   </td>\n",
       "        </tr>\n",
       "        <tr>\n",
       "            <td>635263 </td> <td>602338  </td> <td>2/8/2015 3:09  </td> <td>San Jose Civic Center        </td> <td>3             </td> <td>2/15/2015 2:28 </td> <td>San Jose Civic Center                        </td> <td>3           </td> <td>9     </td> <td>Customer       </td> <td>89451   </td> <td>362811066244   </td>\n",
       "        </tr>\n",
       "        <tr>\n",
       "            <td>779645 </td> <td>594550  </td> <td>5/24/2015 13:33</td> <td>San Pedro Square             </td> <td>6             </td> <td>5/31/2015 10:42</td> <td>San Pedro Square                             </td> <td>6           </td> <td>39    </td> <td>Customer       </td> <td>95118   </td> <td>353489702500   </td>\n",
       "        </tr>\n",
       "    </tbody>\n",
       "</table>\n",
       "<p>... (354142 rows omitted)</p>"
      ],
      "text/plain": [
       "Trip ID | Duration | Start Date      | Start Station                 | Start Terminal | End Date        | End Station                                   | End Terminal | Bike # | Subscriber Type | Zip Code | Duration^2\n",
       "568474  | 17270400 | 12/6/2014 21:59 | South Van Ness at Market      | 66             | 6/24/2015 20:18 | 2nd at Folsom                                 | 62           | 535    | Customer        | 95531    | 298266716160000\n",
       "825850  | 2137000  | 6/28/2015 21:50 | Market at Sansome             | 77             | 7/23/2015 15:27 | Yerba Buena Center of the Arts (3rd @ Howard) | 68           | 466    | Customer        | 97213    | 4566769000000\n",
       "750192  | 1852590  | 5/2/2015 6:17   | San Antonio Shopping Center   | 31             | 5/23/2015 16:53 | Castro Street and El Camino Real              | 32           | 680    | Subscriber      | 94024    | 3432089708100\n",
       "841176  | 1133540  | 7/10/2015 10:35 | University and Emerson        | 35             | 7/23/2015 13:27 | University and Emerson                        | 35           | 262    | Customer        | 94306    | 1284912931600\n",
       "522337  | 720454   | 10/30/2014 8:29 | Redwood City Caltrain Station | 22             | 11/7/2014 15:36 | Stanford in Redwood City                      | 25           | 692    | Customer        | 94010    | 519053966116\n",
       "774999  | 688899   | 5/20/2015 15:27 | Palo Alto Caltrain Station    | 34             | 5/28/2015 14:49 | California Ave Caltrain Station               | 36           | 230    | Customer        | nil      | 474581832201\n",
       "635260  | 655939   | 2/8/2015 3:05   | San Jose Civic Center         | 3              | 2/15/2015 17:17 | SJSU 4th at San Carlos                        | 12           | 132    | Customer        | 89451    | 430255971721\n",
       "745640  | 611240   | 4/29/2015 9:41  | University and Emerson        | 35             | 5/6/2015 11:28  | San Antonio Shopping Center                   | 31           | 196    | Customer        | 81       | 373614337600\n",
       "635263  | 602338   | 2/8/2015 3:09   | San Jose Civic Center         | 3              | 2/15/2015 2:28  | San Jose Civic Center                         | 3            | 9      | Customer        | 89451    | 362811066244\n",
       "779645  | 594550   | 5/24/2015 13:33 | San Pedro Square              | 6              | 5/31/2015 10:42 | San Pedro Square                              | 6            | 39     | Customer        | 95118    | 353489702500\n",
       "... (354142 rows omitted)"
      ]
     },
     "execution_count": 57,
     "metadata": {},
     "output_type": "execute_result"
    }
   ],
   "source": [
    "trips.sort(\"Duration\", descending=True)"
   ]
  },
  {
   "cell_type": "markdown",
   "metadata": {},
   "source": [
    "### Missing Values\n",
    "\n",
    "The `datascience` library does not currently have the functionality to support working with missing values, although it is possible to transfer your data to `pandas` and use that library's tools."
   ]
  },
  {
   "cell_type": "markdown",
   "metadata": {},
   "source": [
    "However, it is possible to combine row filtering with NumPy functions (or `pandas` ones) to do some simple filtering. As an example, if we wanted to filter out rows with missing values in a specific column, we could define our own predicate function as below and then use the `.where()` method to filter rows."
   ]
  },
  {
   "cell_type": "code",
   "execution_count": 40,
   "metadata": {},
   "outputs": [
    {
     "data": {
      "text/html": [
       "<table border=\"1\" class=\"dataframe\">\n",
       "    <thead>\n",
       "        <tr>\n",
       "            <th>Trip ID</th> <th>Duration</th> <th>Start Date</th> <th>Start Station</th> <th>Start Terminal</th> <th>End Date</th> <th>End Station</th> <th>End Terminal</th> <th>Bike #</th> <th>Subscriber Type</th> <th>Zip Code</th>\n",
       "        </tr>\n",
       "    </thead>\n",
       "    <tbody>\n",
       "        <tr>\n",
       "            <td>913460 </td> <td>765     </td> <td>8/31/2015 23:26</td> <td>Harry Bridges Plaza (Ferry Building)         </td> <td>50            </td> <td>8/31/2015 23:39</td> <td>San Francisco Caltrain (Townsend at 4th)     </td> <td>70          </td> <td>288   </td> <td>Subscriber     </td> <td>2139    </td>\n",
       "        </tr>\n",
       "        <tr>\n",
       "            <td>913459 </td> <td>1036    </td> <td>8/31/2015 23:11</td> <td>San Antonio Shopping Center                  </td> <td>31            </td> <td>8/31/2015 23:28</td> <td>Mountain View City Hall                      </td> <td>27          </td> <td>35    </td> <td>Subscriber     </td> <td>95032   </td>\n",
       "        </tr>\n",
       "        <tr>\n",
       "            <td>913455 </td> <td>307     </td> <td>8/31/2015 23:13</td> <td>Post at Kearny                               </td> <td>47            </td> <td>8/31/2015 23:18</td> <td>2nd at South Park                            </td> <td>64          </td> <td>468   </td> <td>Subscriber     </td> <td>94107   </td>\n",
       "        </tr>\n",
       "        <tr>\n",
       "            <td>913454 </td> <td>409     </td> <td>8/31/2015 23:10</td> <td>San Jose City Hall                           </td> <td>10            </td> <td>8/31/2015 23:17</td> <td>San Salvador at 1st                          </td> <td>8           </td> <td>68    </td> <td>Subscriber     </td> <td>95113   </td>\n",
       "        </tr>\n",
       "        <tr>\n",
       "            <td>913453 </td> <td>789     </td> <td>8/31/2015 23:09</td> <td>Embarcadero at Folsom                        </td> <td>51            </td> <td>8/31/2015 23:22</td> <td>Embarcadero at Sansome                       </td> <td>60          </td> <td>487   </td> <td>Customer       </td> <td>9069    </td>\n",
       "        </tr>\n",
       "        <tr>\n",
       "            <td>913452 </td> <td>293     </td> <td>8/31/2015 23:07</td> <td>Yerba Buena Center of the Arts (3rd @ Howard)</td> <td>68            </td> <td>8/31/2015 23:12</td> <td>San Francisco Caltrain (Townsend at 4th)     </td> <td>70          </td> <td>538   </td> <td>Subscriber     </td> <td>94118   </td>\n",
       "        </tr>\n",
       "        <tr>\n",
       "            <td>913451 </td> <td>896     </td> <td>8/31/2015 23:07</td> <td>Embarcadero at Folsom                        </td> <td>51            </td> <td>8/31/2015 23:22</td> <td>Embarcadero at Sansome                       </td> <td>60          </td> <td>363   </td> <td>Customer       </td> <td>92562   </td>\n",
       "        </tr>\n",
       "        <tr>\n",
       "            <td>913450 </td> <td>255     </td> <td>8/31/2015 22:16</td> <td>Embarcadero at Sansome                       </td> <td>60            </td> <td>8/31/2015 22:20</td> <td>Steuart at Market                            </td> <td>74          </td> <td>470   </td> <td>Subscriber     </td> <td>94111   </td>\n",
       "        </tr>\n",
       "        <tr>\n",
       "            <td>913449 </td> <td>126     </td> <td>8/31/2015 22:12</td> <td>Beale at Market                              </td> <td>56            </td> <td>8/31/2015 22:15</td> <td>Temporary Transbay Terminal (Howard at Beale)</td> <td>55          </td> <td>439   </td> <td>Subscriber     </td> <td>94130   </td>\n",
       "        </tr>\n",
       "        <tr>\n",
       "            <td>913448 </td> <td>932     </td> <td>8/31/2015 21:57</td> <td>Post at Kearny                               </td> <td>47            </td> <td>8/31/2015 22:12</td> <td>South Van Ness at Market                     </td> <td>66          </td> <td>472   </td> <td>Subscriber     </td> <td>94702   </td>\n",
       "        </tr>\n",
       "    </tbody>\n",
       "</table>\n",
       "<p>... (354142 rows omitted)</p>"
      ],
      "text/plain": [
       "Trip ID | Duration | Start Date      | Start Station                                 | Start Terminal | End Date        | End Station                                   | End Terminal | Bike # | Subscriber Type | Zip Code\n",
       "913460  | 765      | 8/31/2015 23:26 | Harry Bridges Plaza (Ferry Building)          | 50             | 8/31/2015 23:39 | San Francisco Caltrain (Townsend at 4th)      | 70           | 288    | Subscriber      | 2139\n",
       "913459  | 1036     | 8/31/2015 23:11 | San Antonio Shopping Center                   | 31             | 8/31/2015 23:28 | Mountain View City Hall                       | 27           | 35     | Subscriber      | 95032\n",
       "913455  | 307      | 8/31/2015 23:13 | Post at Kearny                                | 47             | 8/31/2015 23:18 | 2nd at South Park                             | 64           | 468    | Subscriber      | 94107\n",
       "913454  | 409      | 8/31/2015 23:10 | San Jose City Hall                            | 10             | 8/31/2015 23:17 | San Salvador at 1st                           | 8            | 68     | Subscriber      | 95113\n",
       "913453  | 789      | 8/31/2015 23:09 | Embarcadero at Folsom                         | 51             | 8/31/2015 23:22 | Embarcadero at Sansome                        | 60           | 487    | Customer        | 9069\n",
       "913452  | 293      | 8/31/2015 23:07 | Yerba Buena Center of the Arts (3rd @ Howard) | 68             | 8/31/2015 23:12 | San Francisco Caltrain (Townsend at 4th)      | 70           | 538    | Subscriber      | 94118\n",
       "913451  | 896      | 8/31/2015 23:07 | Embarcadero at Folsom                         | 51             | 8/31/2015 23:22 | Embarcadero at Sansome                        | 60           | 363    | Customer        | 92562\n",
       "913450  | 255      | 8/31/2015 22:16 | Embarcadero at Sansome                        | 60             | 8/31/2015 22:20 | Steuart at Market                             | 74           | 470    | Subscriber      | 94111\n",
       "913449  | 126      | 8/31/2015 22:12 | Beale at Market                               | 56             | 8/31/2015 22:15 | Temporary Transbay Terminal (Howard at Beale) | 55           | 439    | Subscriber      | 94130\n",
       "913448  | 932      | 8/31/2015 21:57 | Post at Kearny                                | 47             | 8/31/2015 22:12 | South Van Ness at Market                      | 66           | 472    | Subscriber      | 94702\n",
       "... (354142 rows omitted)"
      ]
     },
     "execution_count": 40,
     "metadata": {},
     "output_type": "execute_result"
    }
   ],
   "source": [
    "not_nan = lambda x: not pd.isna(x)\n",
    "\n",
    "trips.where('End Terminal', not_nan)"
   ]
  },
  {
   "cell_type": "markdown",
   "metadata": {},
   "source": [
    "If we wanted to filter rows with missing values in _any_ column, we could iterate through the labels in `Table.labels`, using the `.where()` method to filter on each pass:"
   ]
  },
  {
   "cell_type": "code",
   "execution_count": 41,
   "metadata": {},
   "outputs": [],
   "source": [
    "for label in trips.labels:\n",
    "    trips = trips.where(label, not_nan)"
   ]
  },
  {
   "cell_type": "markdown",
   "metadata": {},
   "source": [
    "### Descriptive Statistics\n",
    "\n",
    "In order to understand the distribution of your numerical data, it can be very useful to look at descriptive statistics of the values. The `datascience` library allows you to compute statistics on each column of your table, but it requires you to specify which operations you want to run and it does not filter out non-numerical columns.\n",
    "\n",
    "To use the `datascience` library to get descriptive statistics, use the `.stats()` method; this requires you to specify which statistics you want to use to aggregate each column, which you do by passing a list of functions as the `ops` argument."
   ]
  },
  {
   "cell_type": "code",
   "execution_count": 45,
   "metadata": {},
   "outputs": [
    {
     "data": {
      "text/html": [
       "<table border=\"1\" class=\"dataframe\">\n",
       "    <thead>\n",
       "        <tr>\n",
       "            <th>statistic</th> <th>Trip ID</th> <th>Duration</th> <th>Start Date</th> <th>Start Station</th> <th>Start Terminal</th> <th>End Date</th> <th>End Station</th> <th>End Terminal</th> <th>Bike #</th> <th>Subscriber Type</th> <th>Zip Code</th> <th>Duration^2</th>\n",
       "        </tr>\n",
       "    </thead>\n",
       "    <tbody>\n",
       "        <tr>\n",
       "            <td>min      </td> <td>432947 </td> <td>60         </td> <td>1/1/2015 0:25</td> <td>2nd at Folsom                                </td> <td>2             </td> <td>1/1/2015 0:30</td> <td>2nd at Folsom                                </td> <td>2           </td> <td>9      </td> <td>Customer       </td> <td>0       </td> <td>3600       </td>\n",
       "        </tr>\n",
       "        <tr>\n",
       "            <td>max      </td> <td>913460 </td> <td>1.72704e+07</td> <td>9/9/2014 9:59</td> <td>Yerba Buena Center of the Arts (3rd @ Howard)</td> <td>84            </td> <td>9/9/2014 9:59</td> <td>Yerba Buena Center of the Arts (3rd @ Howard)</td> <td>84          </td> <td>878    </td> <td>Subscriber     </td> <td>nil     </td> <td>2.98267e+14</td>\n",
       "        </tr>\n",
       "        <tr>\n",
       "            <td>mean     </td> <td>676962 </td> <td>1046.03    </td> <td>             </td> <td>                                             </td> <td>58.446        </td> <td>             </td> <td>                                             </td> <td>58.4218     </td> <td>422.958</td> <td>               </td> <td>        </td> <td>9.02108e+08</td>\n",
       "        </tr>\n",
       "        <tr>\n",
       "            <td>std      </td> <td>138874 </td> <td>30016.9    </td> <td>             </td> <td>                                             </td> <td>16.7388       </td> <td>             </td> <td>                                             </td> <td>16.8768     </td> <td>159.841</td> <td>               </td> <td>        </td> <td>5.013e+11  </td>\n",
       "        </tr>\n",
       "        <tr>\n",
       "            <td><lambda> </td> <td>557010 </td> <td>342        </td> <td>             </td> <td>                                             </td> <td>50            </td> <td>             </td> <td>                                             </td> <td>50          </td> <td>327    </td> <td>               </td> <td>        </td> <td>116964     </td>\n",
       "        </tr>\n",
       "        <tr>\n",
       "            <td><lambda> </td> <td>798026 </td> <td>739        </td> <td>             </td> <td>                                             </td> <td>70            </td> <td>             </td> <td>                                             </td> <td>70          </td> <td>546    </td> <td>               </td> <td>        </td> <td>546121     </td>\n",
       "        </tr>\n",
       "    </tbody>\n",
       "</table>"
      ],
      "text/plain": [
       "statistic | Trip ID | Duration    | Start Date    | Start Station                                 | Start Terminal | End Date      | End Station                                   | End Terminal | Bike #  | Subscriber Type | Zip Code | Duration^2\n",
       "min       | 432947  | 60          | 1/1/2015 0:25 | 2nd at Folsom                                 | 2              | 1/1/2015 0:30 | 2nd at Folsom                                 | 2            | 9       | Customer        | 0        | 3600\n",
       "max       | 913460  | 1.72704e+07 | 9/9/2014 9:59 | Yerba Buena Center of the Arts (3rd @ Howard) | 84             | 9/9/2014 9:59 | Yerba Buena Center of the Arts (3rd @ Howard) | 84           | 878     | Subscriber      | nil      | 2.98267e+14\n",
       "mean      | 676962  | 1046.03     |               |                                               | 58.446         |               |                                               | 58.4218      | 422.958 |                 |          | 9.02108e+08\n",
       "std       | 138874  | 30016.9     |               |                                               | 16.7388        |               |                                               | 16.8768      | 159.841 |                 |          | 5.013e+11\n",
       "<lambda>  | 557010  | 342         |               |                                               | 50             |               |                                               | 50           | 327     |                 |          | 116964\n",
       "<lambda>  | 798026  | 739         |               |                                               | 70             |               |                                               | 70           | 546     |                 |          | 546121"
      ]
     },
     "execution_count": 45,
     "metadata": {},
     "output_type": "execute_result"
    }
   ],
   "source": [
    "# datascience\n",
    "first_quartile = lambda x: np.quantile(x, 0.25)\n",
    "third_quartile = lambda x: np.quantile(x, 0.75)\n",
    "trips.stats(ops = [min, max, np.mean, np.std, first_quartile, third_quartile])"
   ]
  },
  {
   "cell_type": "markdown",
   "metadata": {},
   "source": [
    "The default behavior of the `.stats()` method is to show the minimum, maximum, median, and sum."
   ]
  },
  {
   "cell_type": "code",
   "execution_count": 46,
   "metadata": {},
   "outputs": [
    {
     "data": {
      "text/html": [
       "<table border=\"1\" class=\"dataframe\">\n",
       "    <thead>\n",
       "        <tr>\n",
       "            <th>statistic</th> <th>Trip ID</th> <th>Duration</th> <th>Start Date</th> <th>Start Station</th> <th>Start Terminal</th> <th>End Date</th> <th>End Station</th> <th>End Terminal</th> <th>Bike #</th> <th>Subscriber Type</th> <th>Zip Code</th> <th>Duration^2</th>\n",
       "        </tr>\n",
       "    </thead>\n",
       "    <tbody>\n",
       "        <tr>\n",
       "            <td>min      </td> <td>432947     </td> <td>60         </td> <td>1/1/2015 0:25</td> <td>2nd at Folsom                                </td> <td>2             </td> <td>1/1/2015 0:30</td> <td>2nd at Folsom                                </td> <td>2           </td> <td>9          </td> <td>Customer       </td> <td>0       </td> <td>3600       </td>\n",
       "        </tr>\n",
       "        <tr>\n",
       "            <td>max      </td> <td>913460     </td> <td>1.72704e+07</td> <td>9/9/2014 9:59</td> <td>Yerba Buena Center of the Arts (3rd @ Howard)</td> <td>84            </td> <td>9/9/2014 9:59</td> <td>Yerba Buena Center of the Arts (3rd @ Howard)</td> <td>84          </td> <td>878        </td> <td>Subscriber     </td> <td>nil     </td> <td>2.98267e+14</td>\n",
       "        </tr>\n",
       "        <tr>\n",
       "            <td>median   </td> <td>679452     </td> <td>511        </td> <td>             </td> <td>                                             </td> <td>62            </td> <td>             </td> <td>                                             </td> <td>63          </td> <td>437        </td> <td>               </td> <td>        </td> <td>261121     </td>\n",
       "        </tr>\n",
       "        <tr>\n",
       "            <td>sum      </td> <td>2.39748e+11</td> <td>3.70455e+08</td> <td>             </td> <td>                                             </td> <td>2.06988e+07   </td> <td>             </td> <td>                                             </td> <td>2.06902e+07 </td> <td>1.49791e+08</td> <td>               </td> <td>        </td> <td>3.19483e+14</td>\n",
       "        </tr>\n",
       "    </tbody>\n",
       "</table>"
      ],
      "text/plain": [
       "statistic | Trip ID     | Duration    | Start Date    | Start Station                                 | Start Terminal | End Date      | End Station                                   | End Terminal | Bike #      | Subscriber Type | Zip Code | Duration^2\n",
       "min       | 432947      | 60          | 1/1/2015 0:25 | 2nd at Folsom                                 | 2              | 1/1/2015 0:30 | 2nd at Folsom                                 | 2            | 9           | Customer        | 0        | 3600\n",
       "max       | 913460      | 1.72704e+07 | 9/9/2014 9:59 | Yerba Buena Center of the Arts (3rd @ Howard) | 84             | 9/9/2014 9:59 | Yerba Buena Center of the Arts (3rd @ Howard) | 84           | 878         | Subscriber      | nil      | 2.98267e+14\n",
       "median    | 679452      | 511         |               |                                               | 62             |               |                                               | 63           | 437         |                 |          | 261121\n",
       "sum       | 2.39748e+11 | 3.70455e+08 |               |                                               | 2.06988e+07    |               |                                               | 2.06902e+07  | 1.49791e+08 |                 |          | 3.19483e+14"
      ]
     },
     "execution_count": 46,
     "metadata": {},
     "output_type": "execute_result"
    }
   ],
   "source": [
    "trips.stats()"
   ]
  },
  {
   "cell_type": "markdown",
   "metadata": {},
   "source": [
    "### Grouping\n",
    "\n",
    "In the `datascience` library, you can group by a column with the `.group()` method; this defaults to counts, but you can pass an optional second argument with an aggregator function."
   ]
  },
  {
   "cell_type": "code",
   "execution_count": 14,
   "metadata": {},
   "outputs": [
    {
     "data": {
      "text/html": [
       "<table border=\"1\" class=\"dataframe\">\n",
       "    <thead>\n",
       "        <tr>\n",
       "            <th>Start Station</th> <th>count</th>\n",
       "        </tr>\n",
       "    </thead>\n",
       "    <tbody>\n",
       "        <tr>\n",
       "            <td>2nd at Folsom                   </td> <td>7999 </td>\n",
       "        </tr>\n",
       "        <tr>\n",
       "            <td>2nd at South Park               </td> <td>9469 </td>\n",
       "        </tr>\n",
       "        <tr>\n",
       "            <td>2nd at Townsend                 </td> <td>14026</td>\n",
       "        </tr>\n",
       "        <tr>\n",
       "            <td>5th at Howard                   </td> <td>7708 </td>\n",
       "        </tr>\n",
       "        <tr>\n",
       "            <td>Adobe on Almaden                </td> <td>562  </td>\n",
       "        </tr>\n",
       "        <tr>\n",
       "            <td>Arena Green / SAP Center        </td> <td>647  </td>\n",
       "        </tr>\n",
       "        <tr>\n",
       "            <td>Beale at Market                 </td> <td>8359 </td>\n",
       "        </tr>\n",
       "        <tr>\n",
       "            <td>Broadway St at Battery St       </td> <td>7676 </td>\n",
       "        </tr>\n",
       "        <tr>\n",
       "            <td>California Ave Caltrain Station </td> <td>400  </td>\n",
       "        </tr>\n",
       "        <tr>\n",
       "            <td>Castro Street and El Camino Real</td> <td>1230 </td>\n",
       "        </tr>\n",
       "    </tbody>\n",
       "</table>\n",
       "<p>... (60 rows omitted)</p>"
      ],
      "text/plain": [
       "Start Station                    | count\n",
       "2nd at Folsom                    | 7999\n",
       "2nd at South Park                | 9469\n",
       "2nd at Townsend                  | 14026\n",
       "5th at Howard                    | 7708\n",
       "Adobe on Almaden                 | 562\n",
       "Arena Green / SAP Center         | 647\n",
       "Beale at Market                  | 8359\n",
       "Broadway St at Battery St        | 7676\n",
       "California Ave Caltrain Station  | 400\n",
       "Castro Street and El Camino Real | 1230\n",
       "... (60 rows omitted)"
      ]
     },
     "execution_count": 14,
     "metadata": {},
     "output_type": "execute_result"
    }
   ],
   "source": [
    "trips.group('Start Station')"
   ]
  },
  {
   "cell_type": "markdown",
   "metadata": {},
   "source": [
    "When you pass an aggregator function, each column is aggregated by that function in the specified groups. This means that the new table will have the same number of columns as the original, unlike the call _without_ an aggregator function. As an example of an aggregator function, we could pass `np.median()`."
   ]
  },
  {
   "cell_type": "code",
   "execution_count": 47,
   "metadata": {},
   "outputs": [
    {
     "data": {
      "text/html": [
       "<table border=\"1\" class=\"dataframe\">\n",
       "    <thead>\n",
       "        <tr>\n",
       "            <th>Start Station</th> <th>Trip ID median</th> <th>Duration median</th> <th>Start Date median</th> <th>Start Terminal median</th> <th>End Date median</th> <th>End Station median</th> <th>End Terminal median</th> <th>Bike # median</th> <th>Subscriber Type median</th> <th>Zip Code median</th> <th>Duration^2 median</th>\n",
       "        </tr>\n",
       "    </thead>\n",
       "    <tbody>\n",
       "        <tr>\n",
       "            <td>2nd at Folsom                   </td> <td>669563        </td> <td>350            </td> <td>                 </td> <td>62                   </td> <td>               </td> <td>                  </td> <td>65                 </td> <td>448          </td> <td>                      </td> <td>               </td> <td>122500           </td>\n",
       "        </tr>\n",
       "        <tr>\n",
       "            <td>2nd at South Park               </td> <td>657212        </td> <td>446            </td> <td>                 </td> <td>64                   </td> <td>               </td> <td>                  </td> <td>68                 </td> <td>449          </td> <td>                      </td> <td>               </td> <td>198916           </td>\n",
       "        </tr>\n",
       "        <tr>\n",
       "            <td>2nd at Townsend                 </td> <td>677760        </td> <td>488            </td> <td>                 </td> <td>61                   </td> <td>               </td> <td>                  </td> <td>61                 </td> <td>448          </td> <td>                      </td> <td>               </td> <td>238144           </td>\n",
       "        </tr>\n",
       "        <tr>\n",
       "            <td>5th at Howard                   </td> <td>666768        </td> <td>437            </td> <td>                 </td> <td>57                   </td> <td>               </td> <td>                  </td> <td>69                 </td> <td>449          </td> <td>                      </td> <td>               </td> <td>190969           </td>\n",
       "        </tr>\n",
       "        <tr>\n",
       "            <td>Adobe on Almaden                </td> <td>689409        </td> <td>329.5          </td> <td>                 </td> <td>5                    </td> <td>               </td> <td>                  </td> <td>2                  </td> <td>184.5        </td> <td>                      </td> <td>               </td> <td>108570           </td>\n",
       "        </tr>\n",
       "        <tr>\n",
       "            <td>Arena Green / SAP Center        </td> <td>652938        </td> <td>375            </td> <td>                 </td> <td>14                   </td> <td>               </td> <td>                  </td> <td>6                  </td> <td>178          </td> <td>                      </td> <td>               </td> <td>140625           </td>\n",
       "        </tr>\n",
       "        <tr>\n",
       "            <td>Beale at Market                 </td> <td>670975        </td> <td>450            </td> <td>                 </td> <td>56                   </td> <td>               </td> <td>                  </td> <td>64                 </td> <td>448          </td> <td>                      </td> <td>               </td> <td>202500           </td>\n",
       "        </tr>\n",
       "        <tr>\n",
       "            <td>Broadway St at Battery St       </td> <td>670514        </td> <td>470            </td> <td>                 </td> <td>82                   </td> <td>               </td> <td>                  </td> <td>69                 </td> <td>446          </td> <td>                      </td> <td>               </td> <td>220900           </td>\n",
       "        </tr>\n",
       "        <tr>\n",
       "            <td>California Ave Caltrain Station </td> <td>704463        </td> <td>1085           </td> <td>                 </td> <td>36                   </td> <td>               </td> <td>                  </td> <td>35                 </td> <td>218          </td> <td>                      </td> <td>               </td> <td>1.17723e+06      </td>\n",
       "        </tr>\n",
       "        <tr>\n",
       "            <td>Castro Street and El Camino Real</td> <td>689918        </td> <td>308            </td> <td>                 </td> <td>32                   </td> <td>               </td> <td>                  </td> <td>28                 </td> <td>188          </td> <td>                      </td> <td>               </td> <td>94864            </td>\n",
       "        </tr>\n",
       "    </tbody>\n",
       "</table>\n",
       "<p>... (60 rows omitted)</p>"
      ],
      "text/plain": [
       "Start Station                    | Trip ID median | Duration median | Start Date median | Start Terminal median | End Date median | End Station median | End Terminal median | Bike # median | Subscriber Type median | Zip Code median | Duration^2 median\n",
       "2nd at Folsom                    | 669563         | 350             |                   | 62                    |                 |                    | 65                  | 448           |                        |                 | 122500\n",
       "2nd at South Park                | 657212         | 446             |                   | 64                    |                 |                    | 68                  | 449           |                        |                 | 198916\n",
       "2nd at Townsend                  | 677760         | 488             |                   | 61                    |                 |                    | 61                  | 448           |                        |                 | 238144\n",
       "5th at Howard                    | 666768         | 437             |                   | 57                    |                 |                    | 69                  | 449           |                        |                 | 190969\n",
       "Adobe on Almaden                 | 689409         | 329.5           |                   | 5                     |                 |                    | 2                   | 184.5         |                        |                 | 108570\n",
       "Arena Green / SAP Center         | 652938         | 375             |                   | 14                    |                 |                    | 6                   | 178           |                        |                 | 140625\n",
       "Beale at Market                  | 670975         | 450             |                   | 56                    |                 |                    | 64                  | 448           |                        |                 | 202500\n",
       "Broadway St at Battery St        | 670514         | 470             |                   | 82                    |                 |                    | 69                  | 446           |                        |                 | 220900\n",
       "California Ave Caltrain Station  | 704463         | 1085            |                   | 36                    |                 |                    | 35                  | 218           |                        |                 | 1.17723e+06\n",
       "Castro Street and El Camino Real | 689918         | 308             |                   | 32                    |                 |                    | 28                  | 188           |                        |                 | 94864\n",
       "... (60 rows omitted)"
      ]
     },
     "execution_count": 47,
     "metadata": {},
     "output_type": "execute_result"
    }
   ],
   "source": [
    "trips.group(\"Start Station\", np.median)"
   ]
  },
  {
   "cell_type": "markdown",
   "metadata": {},
   "source": [
    "To create a pivot table, use the `.pivot()` method. The first argument indicates the column labels, the second the rows, and the third the values that go into each entry. If there are more than one value to go into the cells, it is also possible to pass an aggregator function. The cell below shows a table where each column is a starting station, each row is an ending station, and each value is the mean of the durations for that starting and ending station pair."
   ]
  },
  {
   "cell_type": "code",
   "execution_count": 58,
   "metadata": {},
   "outputs": [
    {
     "data": {
      "text/html": [
       "<table border=\"1\" class=\"dataframe\">\n",
       "    <thead>\n",
       "        <tr>\n",
       "            <th>End Station</th> <th>2nd at Folsom</th> <th>2nd at South Park</th> <th>2nd at Townsend</th> <th>5th at Howard</th> <th>Adobe on Almaden</th> <th>Arena Green / SAP Center</th> <th>Beale at Market</th> <th>Broadway St at Battery St</th> <th>California Ave Caltrain Station</th> <th>Castro Street and El Camino Real</th> <th>Civic Center BART (7th at Market)</th> <th>Clay at Battery</th> <th>Commercial at Montgomery</th> <th>Cowper at University</th> <th>Davis at Jackson</th> <th>Embarcadero at Bryant</th> <th>Embarcadero at Folsom</th> <th>Embarcadero at Sansome</th> <th>Embarcadero at Vallejo</th> <th>Evelyn Park and Ride</th> <th>Franklin at Maple</th> <th>Golden Gate at Polk</th> <th>Grant Avenue at Columbus Avenue</th> <th>Harry Bridges Plaza (Ferry Building)</th> <th>Howard at 2nd</th> <th>Japantown</th> <th>MLK Library</th> <th>Market at 10th</th> <th>Market at 4th</th> <th>Market at Sansome</th> <th>Mechanics Plaza (Market at Battery)</th> <th>Mezes Park</th> <th>Mountain View Caltrain Station</th> <th>Mountain View City Hall</th> <th>Palo Alto Caltrain Station</th> <th>Park at Olive</th> <th>Paseo de San Antonio</th> <th>Post at Kearny</th> <th>Powell Street BART</th> <th>Powell at Post (Union Square)</th> <th>Redwood City Caltrain Station</th> <th>Redwood City Medical Center</th> <th>Redwood City Public Library</th> <th>Rengstorff Avenue / California Street</th> <th>Ryland Park</th> <th>SJSU - San Salvador at 9th</th> <th>SJSU 4th at San Carlos</th> <th>San Antonio Caltrain Station</th> <th>San Antonio Shopping Center</th> <th>San Francisco Caltrain (Townsend at 4th)</th> <th>San Francisco Caltrain 2 (330 Townsend)</th> <th>San Francisco City Hall</th> <th>San Jose City Hall</th> <th>San Jose Civic Center</th> <th>San Jose Diridon Caltrain Station</th> <th>San Mateo County Center</th> <th>San Pedro Square</th> <th>San Salvador at 1st</th> <th>Santa Clara County Civic Center</th> <th>Santa Clara at Almaden</th> <th>South Van Ness at Market</th> <th>Spear at Folsom</th> <th>St James Park</th> <th>Stanford in Redwood City</th> <th>Steuart at Market</th> <th>Temporary Transbay Terminal (Howard at Beale)</th> <th>Townsend at 7th</th> <th>University and Emerson</th> <th>Washington at Kearny</th> <th>Yerba Buena Center of the Arts (3rd @ Howard)</th>\n",
       "        </tr>\n",
       "    </thead>\n",
       "    <tbody>\n",
       "        <tr>\n",
       "            <td>2nd at Folsom                   </td> <td>3126.6       </td> <td>393.552          </td> <td>334.699        </td> <td>445.546      </td> <td>0               </td> <td>0                       </td> <td>595.537        </td> <td>839.636                  </td> <td>0                              </td> <td>0                               </td> <td>790.064                          </td> <td>516.897        </td> <td>588.491                 </td> <td>0                   </td> <td>1761.4          </td> <td>433.744              </td> <td>533.061              </td> <td>2260.81               </td> <td>9999.29               </td> <td>0                   </td> <td>0                </td> <td>825                </td> <td>1612.61                        </td> <td>2456.6                              </td> <td>568.745      </td> <td>0        </td> <td>0          </td> <td>747.494       </td> <td>460.217      </td> <td>317.875          </td> <td>378.576                            </td> <td>0         </td> <td>0                             </td> <td>0                      </td> <td>0                         </td> <td>0            </td> <td>0                   </td> <td>1635.44       </td> <td>567.789           </td> <td>518.011                      </td> <td>0                            </td> <td>0                          </td> <td>0                          </td> <td>0                                    </td> <td>0          </td> <td>0                         </td> <td>0                     </td> <td>0                           </td> <td>0                          </td> <td>473.157                                 </td> <td>484.382                                </td> <td>1094.05                </td> <td>0                 </td> <td>0                    </td> <td>0                                </td> <td>0                      </td> <td>0               </td> <td>0                  </td> <td>0                              </td> <td>0                     </td> <td>432645                  </td> <td>365.579        </td> <td>0            </td> <td>0                       </td> <td>1061.83          </td> <td>455.913                                      </td> <td>693.786        </td> <td>0                     </td> <td>617                 </td> <td>482.438                                      </td>\n",
       "        </tr>\n",
       "        <tr>\n",
       "            <td>2nd at South Park               </td> <td>235.729      </td> <td>1671.71          </td> <td>316.23         </td> <td>542.295      </td> <td>0               </td> <td>0                       </td> <td>529.043        </td> <td>715.247                  </td> <td>0                              </td> <td>0                               </td> <td>926.43                           </td> <td>680.189        </td> <td>670.073                 </td> <td>0                   </td> <td>640.081         </td> <td>567.283              </td> <td>404.27               </td> <td>1134.38               </td> <td>648.948               </td> <td>0                   </td> <td>0                </td> <td>754.362            </td> <td>993.987                        </td> <td>873.881                             </td> <td>240.62       </td> <td>0        </td> <td>0          </td> <td>841.8         </td> <td>575.401      </td> <td>332.44           </td> <td>423.605                            </td> <td>0         </td> <td>0                             </td> <td>0                      </td> <td>0                         </td> <td>0            </td> <td>0                   </td> <td>347.313       </td> <td>804.831           </td> <td>626.8                        </td> <td>0                            </td> <td>0                          </td> <td>0                          </td> <td>0                                    </td> <td>0          </td> <td>0                         </td> <td>0                     </td> <td>0                           </td> <td>0                          </td> <td>302.737                                 </td> <td>448.294                                </td> <td>883.857                </td> <td>0                 </td> <td>0                    </td> <td>0                                </td> <td>0                      </td> <td>0               </td> <td>0                  </td> <td>0                              </td> <td>0                     </td> <td>831.879                 </td> <td>380.366        </td> <td>0            </td> <td>0                       </td> <td>564.244          </td> <td>367.077                                      </td> <td>485.868        </td> <td>0                     </td> <td>722.063             </td> <td>440.769                                      </td>\n",
       "        </tr>\n",
       "        <tr>\n",
       "            <td>2nd at Townsend                 </td> <td>434.341      </td> <td>583.755          </td> <td>2636.55        </td> <td>655.196      </td> <td>0               </td> <td>0                       </td> <td>689.255        </td> <td>780.067                  </td> <td>0                              </td> <td>0                               </td> <td>846.888                          </td> <td>846.514        </td> <td>850.543                 </td> <td>0                   </td> <td>775.514         </td> <td>483.728              </td> <td>597.793              </td> <td>1239.13               </td> <td>1870.3                </td> <td>0                   </td> <td>0                </td> <td>1070.59            </td> <td>981.578                        </td> <td>645.451                             </td> <td>520.583      </td> <td>0        </td> <td>0          </td> <td>4071.93       </td> <td>1134.56      </td> <td>523.379          </td> <td>873.341                            </td> <td>0         </td> <td>0                             </td> <td>0                      </td> <td>0                         </td> <td>0            </td> <td>0                   </td> <td>1432.18       </td> <td>2074.36           </td> <td>776.333                      </td> <td>0                            </td> <td>0                          </td> <td>0                          </td> <td>0                                    </td> <td>0          </td> <td>0                         </td> <td>0                     </td> <td>0                           </td> <td>0                          </td> <td>424.364                                 </td> <td>436.993                                </td> <td>1882.94                </td> <td>0                 </td> <td>0                    </td> <td>0                                </td> <td>0                      </td> <td>0               </td> <td>0                  </td> <td>0                              </td> <td>0                     </td> <td>1148.03                 </td> <td>422.858        </td> <td>0            </td> <td>0                       </td> <td>551.893          </td> <td>543.003                                      </td> <td>569.572        </td> <td>0                     </td> <td>1228.74             </td> <td>595.311                                      </td>\n",
       "        </tr>\n",
       "        <tr>\n",
       "            <td>5th at Howard                   </td> <td>501.259      </td> <td>999.304          </td> <td>1660.5         </td> <td>6787.49      </td> <td>0               </td> <td>0                       </td> <td>973.79         </td> <td>883.681                  </td> <td>0                              </td> <td>0                               </td> <td>455.276                          </td> <td>692.623        </td> <td>718.435                 </td> <td>0                   </td> <td>1161.85         </td> <td>747.672              </td> <td>613.49               </td> <td>1262.89               </td> <td>2632.8                </td> <td>0                   </td> <td>0                </td> <td>520.207            </td> <td>834.692                        </td> <td>767.9                               </td> <td>391.229      </td> <td>0        </td> <td>0          </td> <td>702.511       </td> <td>662.145      </td> <td>467.976          </td> <td>671.872                            </td> <td>0         </td> <td>0                             </td> <td>0                      </td> <td>0                         </td> <td>0            </td> <td>0                   </td> <td>525.989       </td> <td>829.788           </td> <td>422.584                      </td> <td>0                            </td> <td>0                          </td> <td>0                          </td> <td>0                                    </td> <td>0          </td> <td>0                         </td> <td>0                     </td> <td>0                           </td> <td>0                          </td> <td>456.753                                 </td> <td>395.332                                </td> <td>703.86                 </td> <td>0                 </td> <td>0                    </td> <td>0                                </td> <td>0                      </td> <td>0               </td> <td>0                  </td> <td>0                              </td> <td>0                     </td> <td>621.237                 </td> <td>584.98         </td> <td>0            </td> <td>0                       </td> <td>800.065          </td> <td>411.037                                      </td> <td>569.475        </td> <td>0                     </td> <td>1031.8              </td> <td>808.459                                      </td>\n",
       "        </tr>\n",
       "        <tr>\n",
       "            <td>Adobe on Almaden                </td> <td>0            </td> <td>0                </td> <td>0              </td> <td>0            </td> <td>3778.86         </td> <td>3475.33                 </td> <td>0              </td> <td>0                        </td> <td>0                              </td> <td>0                               </td> <td>0                                </td> <td>0              </td> <td>0                       </td> <td>0                   </td> <td>0               </td> <td>0                    </td> <td>0                    </td> <td>0                     </td> <td>0                     </td> <td>0                   </td> <td>0                </td> <td>0                  </td> <td>0                              </td> <td>0                                   </td> <td>0            </td> <td>942.176  </td> <td>2026.25    </td> <td>0             </td> <td>0            </td> <td>0                </td> <td>0                                  </td> <td>0         </td> <td>0                             </td> <td>0                      </td> <td>0                         </td> <td>0            </td> <td>825                 </td> <td>0             </td> <td>0                 </td> <td>0                            </td> <td>0                            </td> <td>0                          </td> <td>0                          </td> <td>0                                    </td> <td>2441.27    </td> <td>858.571                   </td> <td>534.438               </td> <td>0                           </td> <td>0                          </td> <td>0                                       </td> <td>0                                      </td> <td>0                      </td> <td>546.316           </td> <td>3098.36              </td> <td>838.078                          </td> <td>0                      </td> <td>360.4           </td> <td>2353.5             </td> <td>1164.4                         </td> <td>681.667               </td> <td>0                       </td> <td>0              </td> <td>516.857      </td> <td>0                       </td> <td>0                </td> <td>0                                            </td> <td>0              </td> <td>0                     </td> <td>0                   </td> <td>0                                            </td>\n",
       "        </tr>\n",
       "        <tr>\n",
       "            <td>Arena Green / SAP Center        </td> <td>0            </td> <td>0                </td> <td>0              </td> <td>0            </td> <td>1506.11         </td> <td>4824.14                 </td> <td>0              </td> <td>0                        </td> <td>0                              </td> <td>0                               </td> <td>0                                </td> <td>0              </td> <td>0                       </td> <td>0                   </td> <td>0               </td> <td>0                    </td> <td>0                    </td> <td>0                     </td> <td>0                     </td> <td>27409               </td> <td>0                </td> <td>0                  </td> <td>0                              </td> <td>0                                   </td> <td>0            </td> <td>1037.53  </td> <td>1692.33    </td> <td>0             </td> <td>0            </td> <td>0                </td> <td>0                                  </td> <td>0         </td> <td>0                             </td> <td>0                      </td> <td>0                         </td> <td>0            </td> <td>1013.91             </td> <td>0             </td> <td>0                 </td> <td>0                            </td> <td>0                            </td> <td>0                          </td> <td>0                          </td> <td>0                                    </td> <td>836.731    </td> <td>902.333                   </td> <td>1119.12               </td> <td>0                           </td> <td>0                          </td> <td>0                                       </td> <td>0                                      </td> <td>0                      </td> <td>536.667           </td> <td>845.476              </td> <td>1109.33                          </td> <td>0                      </td> <td>373.393         </td> <td>1127.92            </td> <td>1307.16                        </td> <td>283.294               </td> <td>0                       </td> <td>0              </td> <td>645          </td> <td>0                       </td> <td>0                </td> <td>0                                            </td> <td>0              </td> <td>0                     </td> <td>0                   </td> <td>0                                            </td>\n",
       "        </tr>\n",
       "        <tr>\n",
       "            <td>Beale at Market                 </td> <td>360.701      </td> <td>603.873          </td> <td>788.027        </td> <td>916.781      </td> <td>0               </td> <td>0                       </td> <td>6228.8         </td> <td>534.03                   </td> <td>0                              </td> <td>0                               </td> <td>627.423                          </td> <td>637.938        </td> <td>303.168                 </td> <td>0                   </td> <td>232.777         </td> <td>441.483              </td> <td>379.897              </td> <td>610.12                </td> <td>450.494               </td> <td>0                   </td> <td>0                </td> <td>697.074            </td> <td>480.713                        </td> <td>2682.78                             </td> <td>329.5        </td> <td>0        </td> <td>0          </td> <td>731.175       </td> <td>409.882      </td> <td>564.178          </td> <td>1748.41                            </td> <td>0         </td> <td>0                             </td> <td>0                      </td> <td>0                         </td> <td>0            </td> <td>0                   </td> <td>1996.71       </td> <td>502.335           </td> <td>547.462                      </td> <td>0                            </td> <td>0                          </td> <td>0                          </td> <td>0                                    </td> <td>0          </td> <td>0                         </td> <td>0                     </td> <td>0                           </td> <td>0                          </td> <td>788.271                                 </td> <td>810.31                                 </td> <td>809.92                 </td> <td>0                 </td> <td>0                    </td> <td>0                                </td> <td>0                      </td> <td>0               </td> <td>0                  </td> <td>0                              </td> <td>0                     </td> <td>923.344                 </td> <td>377.338        </td> <td>0            </td> <td>0                       </td> <td>1351.05          </td> <td>466.977                                      </td> <td>953.429        </td> <td>0                     </td> <td>753.415             </td> <td>552.587                                      </td>\n",
       "        </tr>\n",
       "        <tr>\n",
       "            <td>Broadway St at Battery St       </td> <td>697.913      </td> <td>865.663          </td> <td>744.826        </td> <td>1121.39      </td> <td>0               </td> <td>0                       </td> <td>377.225        </td> <td>3226.06                  </td> <td>0                              </td> <td>0                               </td> <td>1155.76                          </td> <td>296.434        </td> <td>543.671                 </td> <td>0                   </td> <td>212.85          </td> <td>619.159              </td> <td>582.654              </td> <td>868.592               </td> <td>1090.16               </td> <td>0                   </td> <td>0                </td> <td>1565.86            </td> <td>1147.74                        </td> <td>741.917                             </td> <td>600.939      </td> <td>0        </td> <td>0          </td> <td>2032.66       </td> <td>1217.94      </td> <td>467.66           </td> <td>463.196                            </td> <td>0         </td> <td>0                             </td> <td>0                      </td> <td>0                         </td> <td>0            </td> <td>0                   </td> <td>554.866       </td> <td>1018.68           </td> <td>582.191                      </td> <td>0                            </td> <td>0                          </td> <td>0                          </td> <td>0                                    </td> <td>0          </td> <td>0                         </td> <td>0                     </td> <td>0                           </td> <td>0                          </td> <td>945.043                                 </td> <td>935.514                                </td> <td>6170.55                </td> <td>0                 </td> <td>0                    </td> <td>0                                </td> <td>0                      </td> <td>0               </td> <td>0                  </td> <td>0                              </td> <td>0                     </td> <td>1116                    </td> <td>516.17         </td> <td>0            </td> <td>0                       </td> <td>520.289          </td> <td>496.234                                      </td> <td>1216.92        </td> <td>0                     </td> <td>1780.43             </td> <td>755.4                                        </td>\n",
       "        </tr>\n",
       "        <tr>\n",
       "            <td>California Ave Caltrain Station </td> <td>0            </td> <td>0                </td> <td>0              </td> <td>0            </td> <td>0               </td> <td>0                       </td> <td>0              </td> <td>0                        </td> <td>11524.9                        </td> <td>1645                            </td> <td>0                                </td> <td>0              </td> <td>0                       </td> <td>4262.8              </td> <td>0               </td> <td>0                    </td> <td>0                    </td> <td>0                     </td> <td>0                     </td> <td>0                   </td> <td>0                </td> <td>0                  </td> <td>0                              </td> <td>0                                   </td> <td>0            </td> <td>0        </td> <td>0          </td> <td>0             </td> <td>0            </td> <td>0                </td> <td>0                                  </td> <td>2300      </td> <td>1844                          </td> <td>2441.75                </td> <td>5595.21                   </td> <td>506.233      </td> <td>0                   </td> <td>0             </td> <td>0                 </td> <td>0                            </td> <td>2457                         </td> <td>0                          </td> <td>0                          </td> <td>1386                                 </td> <td>0          </td> <td>0                         </td> <td>0                     </td> <td>2413.6                      </td> <td>1248.18                    </td> <td>0                                       </td> <td>0                                      </td> <td>0                      </td> <td>0                 </td> <td>0                    </td> <td>0                                </td> <td>0                      </td> <td>0               </td> <td>0                  </td> <td>0                              </td> <td>0                     </td> <td>0                       </td> <td>0              </td> <td>0            </td> <td>2872                    </td> <td>0                </td> <td>0                                            </td> <td>0              </td> <td>2590.73               </td> <td>0                   </td> <td>0                                            </td>\n",
       "        </tr>\n",
       "        <tr>\n",
       "            <td>Castro Street and El Camino Real</td> <td>0            </td> <td>0                </td> <td>0              </td> <td>0            </td> <td>0               </td> <td>0                       </td> <td>0              </td> <td>0                        </td> <td>0                              </td> <td>7623.38                         </td> <td>0                                </td> <td>0              </td> <td>0                       </td> <td>0                   </td> <td>0               </td> <td>0                    </td> <td>0                    </td> <td>0                     </td> <td>0                     </td> <td>4091.38             </td> <td>0                </td> <td>0                  </td> <td>0                              </td> <td>0                                   </td> <td>0            </td> <td>0        </td> <td>0          </td> <td>0             </td> <td>0            </td> <td>0                </td> <td>0                                  </td> <td>0         </td> <td>504.363                       </td> <td>4321.91                </td> <td>0                         </td> <td>2453.5       </td> <td>0                   </td> <td>0             </td> <td>0                 </td> <td>0                            </td> <td>0                            </td> <td>0                          </td> <td>0                          </td> <td>2415.55                              </td> <td>0          </td> <td>0                         </td> <td>0                     </td> <td>1117                        </td> <td>117967                     </td> <td>0                                       </td> <td>0                                      </td> <td>0                      </td> <td>0                 </td> <td>0                    </td> <td>0                                </td> <td>0                      </td> <td>0               </td> <td>0                  </td> <td>0                              </td> <td>0                     </td> <td>0                       </td> <td>0              </td> <td>0            </td> <td>0                       </td> <td>0                </td> <td>0                                            </td> <td>0              </td> <td>4150                  </td> <td>0                   </td> <td>0                                            </td>\n",
       "        </tr>\n",
       "    </tbody>\n",
       "</table>\n",
       "<p>... (60 rows omitted)</p>"
      ],
      "text/plain": [
       "End Station                      | 2nd at Folsom | 2nd at South Park | 2nd at Townsend | 5th at Howard | Adobe on Almaden | Arena Green / SAP Center | Beale at Market | Broadway St at Battery St | California Ave Caltrain Station | Castro Street and El Camino Real | Civic Center BART (7th at Market) | Clay at Battery | Commercial at Montgomery | Cowper at University | Davis at Jackson | Embarcadero at Bryant | Embarcadero at Folsom | Embarcadero at Sansome | Embarcadero at Vallejo | Evelyn Park and Ride | Franklin at Maple | Golden Gate at Polk | Grant Avenue at Columbus Avenue | Harry Bridges Plaza (Ferry Building) | Howard at 2nd | Japantown | MLK Library | Market at 10th | Market at 4th | Market at Sansome | Mechanics Plaza (Market at Battery) | Mezes Park | Mountain View Caltrain Station | Mountain View City Hall | Palo Alto Caltrain Station | Park at Olive | Paseo de San Antonio | Post at Kearny | Powell Street BART | Powell at Post (Union Square) | Redwood City Caltrain Station | Redwood City Medical Center | Redwood City Public Library | Rengstorff Avenue / California Street | Ryland Park | SJSU - San Salvador at 9th | SJSU 4th at San Carlos | San Antonio Caltrain Station | San Antonio Shopping Center | San Francisco Caltrain (Townsend at 4th) | San Francisco Caltrain 2 (330 Townsend) | San Francisco City Hall | San Jose City Hall | San Jose Civic Center | San Jose Diridon Caltrain Station | San Mateo County Center | San Pedro Square | San Salvador at 1st | Santa Clara County Civic Center | Santa Clara at Almaden | South Van Ness at Market | Spear at Folsom | St James Park | Stanford in Redwood City | Steuart at Market | Temporary Transbay Terminal (Howard at Beale) | Townsend at 7th | University and Emerson | Washington at Kearny | Yerba Buena Center of the Arts (3rd @ Howard)\n",
       "2nd at Folsom                    | 3126.6        | 393.552           | 334.699         | 445.546       | 0                | 0                        | 595.537         | 839.636                   | 0                               | 0                                | 790.064                           | 516.897         | 588.491                  | 0                    | 1761.4           | 433.744               | 533.061               | 2260.81                | 9999.29                | 0                    | 0                 | 825                 | 1612.61                         | 2456.6                               | 568.745       | 0         | 0           | 747.494        | 460.217       | 317.875           | 378.576                             | 0          | 0                              | 0                       | 0                          | 0             | 0                    | 1635.44        | 567.789            | 518.011                       | 0                             | 0                           | 0                           | 0                                     | 0           | 0                          | 0                      | 0                            | 0                           | 473.157                                  | 484.382                                 | 1094.05                 | 0                  | 0                     | 0                                 | 0                       | 0                | 0                   | 0                               | 0                      | 432645                   | 365.579         | 0             | 0                        | 1061.83           | 455.913                                       | 693.786         | 0                      | 617                  | 482.438\n",
       "2nd at South Park                | 235.729       | 1671.71           | 316.23          | 542.295       | 0                | 0                        | 529.043         | 715.247                   | 0                               | 0                                | 926.43                            | 680.189         | 670.073                  | 0                    | 640.081          | 567.283               | 404.27                | 1134.38                | 648.948                | 0                    | 0                 | 754.362             | 993.987                         | 873.881                              | 240.62        | 0         | 0           | 841.8          | 575.401       | 332.44            | 423.605                             | 0          | 0                              | 0                       | 0                          | 0             | 0                    | 347.313        | 804.831            | 626.8                         | 0                             | 0                           | 0                           | 0                                     | 0           | 0                          | 0                      | 0                            | 0                           | 302.737                                  | 448.294                                 | 883.857                 | 0                  | 0                     | 0                                 | 0                       | 0                | 0                   | 0                               | 0                      | 831.879                  | 380.366         | 0             | 0                        | 564.244           | 367.077                                       | 485.868         | 0                      | 722.063              | 440.769\n",
       "2nd at Townsend                  | 434.341       | 583.755           | 2636.55         | 655.196       | 0                | 0                        | 689.255         | 780.067                   | 0                               | 0                                | 846.888                           | 846.514         | 850.543                  | 0                    | 775.514          | 483.728               | 597.793               | 1239.13                | 1870.3                 | 0                    | 0                 | 1070.59             | 981.578                         | 645.451                              | 520.583       | 0         | 0           | 4071.93        | 1134.56       | 523.379           | 873.341                             | 0          | 0                              | 0                       | 0                          | 0             | 0                    | 1432.18        | 2074.36            | 776.333                       | 0                             | 0                           | 0                           | 0                                     | 0           | 0                          | 0                      | 0                            | 0                           | 424.364                                  | 436.993                                 | 1882.94                 | 0                  | 0                     | 0                                 | 0                       | 0                | 0                   | 0                               | 0                      | 1148.03                  | 422.858         | 0             | 0                        | 551.893           | 543.003                                       | 569.572         | 0                      | 1228.74              | 595.311\n",
       "5th at Howard                    | 501.259       | 999.304           | 1660.5          | 6787.49       | 0                | 0                        | 973.79          | 883.681                   | 0                               | 0                                | 455.276                           | 692.623         | 718.435                  | 0                    | 1161.85          | 747.672               | 613.49                | 1262.89                | 2632.8                 | 0                    | 0                 | 520.207             | 834.692                         | 767.9                                | 391.229       | 0         | 0           | 702.511        | 662.145       | 467.976           | 671.872                             | 0          | 0                              | 0                       | 0                          | 0             | 0                    | 525.989        | 829.788            | 422.584                       | 0                             | 0                           | 0                           | 0                                     | 0           | 0                          | 0                      | 0                            | 0                           | 456.753                                  | 395.332                                 | 703.86                  | 0                  | 0                     | 0                                 | 0                       | 0                | 0                   | 0                               | 0                      | 621.237                  | 584.98          | 0             | 0                        | 800.065           | 411.037                                       | 569.475         | 0                      | 1031.8               | 808.459\n",
       "Adobe on Almaden                 | 0             | 0                 | 0               | 0             | 3778.86          | 3475.33                  | 0               | 0                         | 0                               | 0                                | 0                                 | 0               | 0                        | 0                    | 0                | 0                     | 0                     | 0                      | 0                      | 0                    | 0                 | 0                   | 0                               | 0                                    | 0             | 942.176   | 2026.25     | 0              | 0             | 0                 | 0                                   | 0          | 0                              | 0                       | 0                          | 0             | 825                  | 0              | 0                  | 0                             | 0                             | 0                           | 0                           | 0                                     | 2441.27     | 858.571                    | 534.438                | 0                            | 0                           | 0                                        | 0                                       | 0                       | 546.316            | 3098.36               | 838.078                           | 0                       | 360.4            | 2353.5              | 1164.4                          | 681.667                | 0                        | 0               | 516.857       | 0                        | 0                 | 0                                             | 0               | 0                      | 0                    | 0\n",
       "Arena Green / SAP Center         | 0             | 0                 | 0               | 0             | 1506.11          | 4824.14                  | 0               | 0                         | 0                               | 0                                | 0                                 | 0               | 0                        | 0                    | 0                | 0                     | 0                     | 0                      | 0                      | 27409                | 0                 | 0                   | 0                               | 0                                    | 0             | 1037.53   | 1692.33     | 0              | 0             | 0                 | 0                                   | 0          | 0                              | 0                       | 0                          | 0             | 1013.91              | 0              | 0                  | 0                             | 0                             | 0                           | 0                           | 0                                     | 836.731     | 902.333                    | 1119.12                | 0                            | 0                           | 0                                        | 0                                       | 0                       | 536.667            | 845.476               | 1109.33                           | 0                       | 373.393          | 1127.92             | 1307.16                         | 283.294                | 0                        | 0               | 645           | 0                        | 0                 | 0                                             | 0               | 0                      | 0                    | 0\n",
       "Beale at Market                  | 360.701       | 603.873           | 788.027         | 916.781       | 0                | 0                        | 6228.8          | 534.03                    | 0                               | 0                                | 627.423                           | 637.938         | 303.168                  | 0                    | 232.777          | 441.483               | 379.897               | 610.12                 | 450.494                | 0                    | 0                 | 697.074             | 480.713                         | 2682.78                              | 329.5         | 0         | 0           | 731.175        | 409.882       | 564.178           | 1748.41                             | 0          | 0                              | 0                       | 0                          | 0             | 0                    | 1996.71        | 502.335            | 547.462                       | 0                             | 0                           | 0                           | 0                                     | 0           | 0                          | 0                      | 0                            | 0                           | 788.271                                  | 810.31                                  | 809.92                  | 0                  | 0                     | 0                                 | 0                       | 0                | 0                   | 0                               | 0                      | 923.344                  | 377.338         | 0             | 0                        | 1351.05           | 466.977                                       | 953.429         | 0                      | 753.415              | 552.587\n",
       "Broadway St at Battery St        | 697.913       | 865.663           | 744.826         | 1121.39       | 0                | 0                        | 377.225         | 3226.06                   | 0                               | 0                                | 1155.76                           | 296.434         | 543.671                  | 0                    | 212.85           | 619.159               | 582.654               | 868.592                | 1090.16                | 0                    | 0                 | 1565.86             | 1147.74                         | 741.917                              | 600.939       | 0         | 0           | 2032.66        | 1217.94       | 467.66            | 463.196                             | 0          | 0                              | 0                       | 0                          | 0             | 0                    | 554.866        | 1018.68            | 582.191                       | 0                             | 0                           | 0                           | 0                                     | 0           | 0                          | 0                      | 0                            | 0                           | 945.043                                  | 935.514                                 | 6170.55                 | 0                  | 0                     | 0                                 | 0                       | 0                | 0                   | 0                               | 0                      | 1116                     | 516.17          | 0             | 0                        | 520.289           | 496.234                                       | 1216.92         | 0                      | 1780.43              | 755.4\n",
       "California Ave Caltrain Station  | 0             | 0                 | 0               | 0             | 0                | 0                        | 0               | 0                         | 11524.9                         | 1645                             | 0                                 | 0               | 0                        | 4262.8               | 0                | 0                     | 0                     | 0                      | 0                      | 0                    | 0                 | 0                   | 0                               | 0                                    | 0             | 0         | 0           | 0              | 0             | 0                 | 0                                   | 2300       | 1844                           | 2441.75                 | 5595.21                    | 506.233       | 0                    | 0              | 0                  | 0                             | 2457                          | 0                           | 0                           | 1386                                  | 0           | 0                          | 0                      | 2413.6                       | 1248.18                     | 0                                        | 0                                       | 0                       | 0                  | 0                     | 0                                 | 0                       | 0                | 0                   | 0                               | 0                      | 0                        | 0               | 0             | 2872                     | 0                 | 0                                             | 0               | 2590.73                | 0                    | 0\n",
       "Castro Street and El Camino Real | 0             | 0                 | 0               | 0             | 0                | 0                        | 0               | 0                         | 0                               | 7623.38                          | 0                                 | 0               | 0                        | 0                    | 0                | 0                     | 0                     | 0                      | 0                      | 4091.38              | 0                 | 0                   | 0                               | 0                                    | 0             | 0         | 0           | 0              | 0             | 0                 | 0                                   | 0          | 504.363                        | 4321.91                 | 0                          | 2453.5        | 0                    | 0              | 0                  | 0                             | 0                             | 0                           | 0                           | 2415.55                               | 0           | 0                          | 0                      | 1117                         | 117967                      | 0                                        | 0                                       | 0                       | 0                  | 0                     | 0                                 | 0                       | 0                | 0                   | 0                               | 0                      | 0                        | 0               | 0             | 0                        | 0                 | 0                                             | 0               | 4150                   | 0                    | 0\n",
       "... (60 rows omitted)"
      ]
     },
     "execution_count": 58,
     "metadata": {},
     "output_type": "execute_result"
    }
   ],
   "source": [
    "trips.pivot(\"Start Station\", \"End Station\", \"Duration\", np.mean)"
   ]
  },
  {
   "cell_type": "markdown",
   "metadata": {},
   "source": [
    "### Joining Tables\n",
    "\n",
    "The `datascience` library allows you to join tables using its `.join()` method. This method performs an _inner_ join, which means that the rows are only those whose values in the join column(s) appear in _both_ tables. \n",
    "\n",
    "The call below joins the `trips` table with the second through fourth columns of the `stations` table, left on `\"Start Station\"` and right on `\"name\"`. This means that the result table will have two new columns, `\"lat\"` and `\"long\"`, indicating the latitude and longitude of the starting station."
   ]
  },
  {
   "cell_type": "code",
   "execution_count": 62,
   "metadata": {},
   "outputs": [
    {
     "data": {
      "text/html": [
       "<table border=\"1\" class=\"dataframe\">\n",
       "    <thead>\n",
       "        <tr>\n",
       "            <th>Start Station</th> <th>Trip ID</th> <th>Duration</th> <th>Start Date</th> <th>Start Terminal</th> <th>End Date</th> <th>End Station</th> <th>End Terminal</th> <th>Bike #</th> <th>Subscriber Type</th> <th>Zip Code</th> <th>Duration^2</th> <th>lat</th> <th>long</th>\n",
       "        </tr>\n",
       "    </thead>\n",
       "    <tbody>\n",
       "        <tr>\n",
       "            <td>2nd at Folsom</td> <td>913183 </td> <td>226     </td> <td>8/31/2015 18:30</td> <td>62            </td> <td>8/31/2015 18:34</td> <td>Market at Sansome                            </td> <td>77          </td> <td>621   </td> <td>Subscriber     </td> <td>94612   </td> <td>51076     </td> <td>37.7853</td> <td>-122.396</td>\n",
       "        </tr>\n",
       "        <tr>\n",
       "            <td>2nd at Folsom</td> <td>913145 </td> <td>461     </td> <td>8/31/2015 18:16</td> <td>62            </td> <td>8/31/2015 18:24</td> <td>San Francisco Caltrain 2 (330 Townsend)      </td> <td>69          </td> <td>606   </td> <td>Subscriber     </td> <td>95125   </td> <td>212521    </td> <td>37.7853</td> <td>-122.396</td>\n",
       "        </tr>\n",
       "        <tr>\n",
       "            <td>2nd at Folsom</td> <td>913135 </td> <td>399     </td> <td>8/31/2015 18:13</td> <td>62            </td> <td>8/31/2015 18:19</td> <td>Clay at Battery                              </td> <td>41          </td> <td>421   </td> <td>Subscriber     </td> <td>94920   </td> <td>159201    </td> <td>37.7853</td> <td>-122.396</td>\n",
       "        </tr>\n",
       "        <tr>\n",
       "            <td>2nd at Folsom</td> <td>913107 </td> <td>283     </td> <td>8/31/2015 18:03</td> <td>62            </td> <td>8/31/2015 18:07</td> <td>Market at Sansome                            </td> <td>77          </td> <td>375   </td> <td>Subscriber     </td> <td>94549   </td> <td>80089     </td> <td>37.7853</td> <td>-122.396</td>\n",
       "        </tr>\n",
       "        <tr>\n",
       "            <td>2nd at Folsom</td> <td>913100 </td> <td>263     </td> <td>8/31/2015 18:01</td> <td>62            </td> <td>8/31/2015 18:06</td> <td>2nd at Townsend                              </td> <td>61          </td> <td>621   </td> <td>Subscriber     </td> <td>94107   </td> <td>69169     </td> <td>37.7853</td> <td>-122.396</td>\n",
       "        </tr>\n",
       "        <tr>\n",
       "            <td>2nd at Folsom</td> <td>913092 </td> <td>278     </td> <td>8/31/2015 18:00</td> <td>62            </td> <td>8/31/2015 18:04</td> <td>Temporary Transbay Terminal (Howard at Beale)</td> <td>55          </td> <td>518   </td> <td>Subscriber     </td> <td>94710   </td> <td>77284     </td> <td>37.7853</td> <td>-122.396</td>\n",
       "        </tr>\n",
       "        <tr>\n",
       "            <td>2nd at Folsom</td> <td>913056 </td> <td>437     </td> <td>8/31/2015 17:51</td> <td>62            </td> <td>8/31/2015 17:59</td> <td>Steuart at Market                            </td> <td>74          </td> <td>193   </td> <td>Subscriber     </td> <td>94114   </td> <td>190969    </td> <td>37.7853</td> <td>-122.396</td>\n",
       "        </tr>\n",
       "        <tr>\n",
       "            <td>2nd at Folsom</td> <td>913046 </td> <td>309     </td> <td>8/31/2015 17:49</td> <td>62            </td> <td>8/31/2015 17:55</td> <td>San Francisco Caltrain (Townsend at 4th)     </td> <td>70          </td> <td>432   </td> <td>Subscriber     </td> <td>94305   </td> <td>95481     </td> <td>37.7853</td> <td>-122.396</td>\n",
       "        </tr>\n",
       "        <tr>\n",
       "            <td>2nd at Folsom</td> <td>913041 </td> <td>330     </td> <td>8/31/2015 17:48</td> <td>62            </td> <td>8/31/2015 17:53</td> <td>Harry Bridges Plaza (Ferry Building)         </td> <td>50          </td> <td>601   </td> <td>Subscriber     </td> <td>94960   </td> <td>108900    </td> <td>37.7853</td> <td>-122.396</td>\n",
       "        </tr>\n",
       "        <tr>\n",
       "            <td>2nd at Folsom</td> <td>913033 </td> <td>379     </td> <td>8/31/2015 17:47</td> <td>62            </td> <td>8/31/2015 17:53</td> <td>Steuart at Market                            </td> <td>74          </td> <td>191   </td> <td>Subscriber     </td> <td>94563   </td> <td>143641    </td> <td>37.7853</td> <td>-122.396</td>\n",
       "        </tr>\n",
       "    </tbody>\n",
       "</table>\n",
       "<p>... (346777 rows omitted)</p>"
      ],
      "text/plain": [
       "Start Station | Trip ID | Duration | Start Date      | Start Terminal | End Date        | End Station                                   | End Terminal | Bike # | Subscriber Type | Zip Code | Duration^2 | lat     | long\n",
       "2nd at Folsom | 913183  | 226      | 8/31/2015 18:30 | 62             | 8/31/2015 18:34 | Market at Sansome                             | 77           | 621    | Subscriber      | 94612    | 51076      | 37.7853 | -122.396\n",
       "2nd at Folsom | 913145  | 461      | 8/31/2015 18:16 | 62             | 8/31/2015 18:24 | San Francisco Caltrain 2 (330 Townsend)       | 69           | 606    | Subscriber      | 95125    | 212521     | 37.7853 | -122.396\n",
       "2nd at Folsom | 913135  | 399      | 8/31/2015 18:13 | 62             | 8/31/2015 18:19 | Clay at Battery                               | 41           | 421    | Subscriber      | 94920    | 159201     | 37.7853 | -122.396\n",
       "2nd at Folsom | 913107  | 283      | 8/31/2015 18:03 | 62             | 8/31/2015 18:07 | Market at Sansome                             | 77           | 375    | Subscriber      | 94549    | 80089      | 37.7853 | -122.396\n",
       "2nd at Folsom | 913100  | 263      | 8/31/2015 18:01 | 62             | 8/31/2015 18:06 | 2nd at Townsend                               | 61           | 621    | Subscriber      | 94107    | 69169      | 37.7853 | -122.396\n",
       "2nd at Folsom | 913092  | 278      | 8/31/2015 18:00 | 62             | 8/31/2015 18:04 | Temporary Transbay Terminal (Howard at Beale) | 55           | 518    | Subscriber      | 94710    | 77284      | 37.7853 | -122.396\n",
       "2nd at Folsom | 913056  | 437      | 8/31/2015 17:51 | 62             | 8/31/2015 17:59 | Steuart at Market                             | 74           | 193    | Subscriber      | 94114    | 190969     | 37.7853 | -122.396\n",
       "2nd at Folsom | 913046  | 309      | 8/31/2015 17:49 | 62             | 8/31/2015 17:55 | San Francisco Caltrain (Townsend at 4th)      | 70           | 432    | Subscriber      | 94305    | 95481      | 37.7853 | -122.396\n",
       "2nd at Folsom | 913041  | 330      | 8/31/2015 17:48 | 62             | 8/31/2015 17:53 | Harry Bridges Plaza (Ferry Building)          | 50           | 601    | Subscriber      | 94960    | 108900     | 37.7853 | -122.396\n",
       "2nd at Folsom | 913033  | 379      | 8/31/2015 17:47 | 62             | 8/31/2015 17:53 | Steuart at Market                             | 74           | 191    | Subscriber      | 94563    | 143641     | 37.7853 | -122.396\n",
       "... (346777 rows omitted)"
      ]
     },
     "execution_count": 62,
     "metadata": {},
     "output_type": "execute_result"
    }
   ],
   "source": [
    "trips.join(\"Start Station\", stations.select(1, 2, 3), \"name\")"
   ]
  },
  {
   "cell_type": "markdown",
   "metadata": {},
   "source": [
    "To perform other types of joins, the tables would need to be passed to `pandas`."
   ]
  },
  {
   "cell_type": "markdown",
   "metadata": {},
   "source": [
    "### Manipulating Values\n",
    "\n",
    "The most common way to manipulate a data set is to apply a predefined function on each element of a column. To accomplish this in `datascience`, we utilize the `.apply()` method, which takes as its arguments first a function to apply and then the column index or label."
   ]
  },
  {
   "cell_type": "code",
   "execution_count": 42,
   "metadata": {
    "scrolled": true
   },
   "outputs": [
    {
     "data": {
      "text/html": [
       "<table border=\"1\" class=\"dataframe\">\n",
       "    <thead>\n",
       "        <tr>\n",
       "            <th>Trip ID</th> <th>Duration</th> <th>Start Date</th> <th>Start Station</th> <th>Start Terminal</th> <th>End Date</th> <th>End Station</th> <th>End Terminal</th> <th>Bike #</th> <th>Subscriber Type</th> <th>Zip Code</th> <th>Duration^2</th>\n",
       "        </tr>\n",
       "    </thead>\n",
       "    <tbody>\n",
       "        <tr>\n",
       "            <td>913460 </td> <td>765     </td> <td>8/31/2015 23:26</td> <td>Harry Bridges Plaza (Ferry Building)</td> <td>50            </td> <td>8/31/2015 23:39</td> <td>San Francisco Caltrain (Townsend at 4th)</td> <td>70          </td> <td>288   </td> <td>Subscriber     </td> <td>2139    </td> <td>585225    </td>\n",
       "        </tr>\n",
       "        <tr>\n",
       "            <td>913459 </td> <td>1036    </td> <td>8/31/2015 23:11</td> <td>San Antonio Shopping Center         </td> <td>31            </td> <td>8/31/2015 23:28</td> <td>Mountain View City Hall                 </td> <td>27          </td> <td>35    </td> <td>Subscriber     </td> <td>95032   </td> <td>1073296   </td>\n",
       "        </tr>\n",
       "        <tr>\n",
       "            <td>913455 </td> <td>307     </td> <td>8/31/2015 23:13</td> <td>Post at Kearny                      </td> <td>47            </td> <td>8/31/2015 23:18</td> <td>2nd at South Park                       </td> <td>64          </td> <td>468   </td> <td>Subscriber     </td> <td>94107   </td> <td>94249     </td>\n",
       "        </tr>\n",
       "        <tr>\n",
       "            <td>913454 </td> <td>409     </td> <td>8/31/2015 23:10</td> <td>San Jose City Hall                  </td> <td>10            </td> <td>8/31/2015 23:17</td> <td>San Salvador at 1st                     </td> <td>8           </td> <td>68    </td> <td>Subscriber     </td> <td>95113   </td> <td>167281    </td>\n",
       "        </tr>\n",
       "        <tr>\n",
       "            <td>913453 </td> <td>789     </td> <td>8/31/2015 23:09</td> <td>Embarcadero at Folsom               </td> <td>51            </td> <td>8/31/2015 23:22</td> <td>Embarcadero at Sansome                  </td> <td>60          </td> <td>487   </td> <td>Customer       </td> <td>9069    </td> <td>622521    </td>\n",
       "        </tr>\n",
       "    </tbody>\n",
       "</table>\n",
       "<p>... (354147 rows omitted)</p>"
      ],
      "text/plain": [
       "<IPython.core.display.HTML object>"
      ]
     },
     "metadata": {},
     "output_type": "display_data"
    }
   ],
   "source": [
    "square = lambda x: x**2\n",
    "\n",
    "sqaured_durations = trips.apply(square, \"Duration\")\n",
    "trips = trips.with_column(\"Duration^2\", sqaured_durations)\n",
    "trips.show(5)"
   ]
  },
  {
   "cell_type": "markdown",
   "metadata": {},
   "source": [
    "### Exporting Data\n",
    "\n",
    "If you make some modifications to the data set or do some data cleaning, you may want to export your data from Python to make it easier to pick up later or to reproduce. For this reason, there is a `datascience` function that allow you to export a Table object to a text file, which you can then load back into Python later. To export as a CSV file, you pass the file name (or file location, if it's going to another folder) to the `.to_csv()` method."
   ]
  },
  {
   "cell_type": "code",
   "execution_count": 49,
   "metadata": {},
   "outputs": [],
   "source": [
    "trips.to_csv('export/trips-export.csv')"
   ]
  },
  {
   "cell_type": "markdown",
   "metadata": {},
   "source": [
    "If you want to save as another file format (e.g. TSV, JSON), you will have to export through `pandas` by setting the `sep` argument of the `.to_csv()` method or using a different export function (e.g. `pd.to_json()`). This is easily accomplished if you have a Table by transferring that table to `pandas` first."
   ]
  },
  {
   "cell_type": "code",
   "execution_count": 50,
   "metadata": {},
   "outputs": [],
   "source": [
    "# transfer to pandas, from above\n",
    "trips_df = trips.to_df()\n",
    "\n",
    "# export as tsv\n",
    "trips_df.to_csv('data/trips.tsv', index=False, sep='\\t')"
   ]
  },
  {
   "cell_type": "markdown",
   "metadata": {},
   "source": [
    "### Conclusion\n",
    "\n",
    "This notebook should have given you a good introduction to the `Table` class of `datascience`. This demo is not an exhaustive one, and there are _many_ other functionalities of the class that were not covered. To see these and the other functions in the library (including plotting and mapping functionality), see the [`datascience` documentation](http://data8.org/datascience)."
   ]
  }
 ],
 "metadata": {
  "@webio": {
   "lastCommId": null,
   "lastKernelId": null
  },
  "kernelspec": {
   "display_name": "Python 3",
   "language": "python",
   "name": "python3"
  },
  "language_info": {
   "codemirror_mode": {
    "name": "ipython",
    "version": 3
   },
   "file_extension": ".py",
   "mimetype": "text/x-python",
   "name": "python",
   "nbconvert_exporter": "python",
   "pygments_lexer": "ipython3",
   "version": "3.6.5"
  },
  "varInspector": {
   "cols": {
    "lenName": 16,
    "lenType": 16,
    "lenVar": 40
   },
   "kernels_config": {
    "python": {
     "delete_cmd_postfix": "",
     "delete_cmd_prefix": "del ",
     "library": "var_list.py",
     "varRefreshCmd": "print(var_dic_list())"
    },
    "r": {
     "delete_cmd_postfix": ") ",
     "delete_cmd_prefix": "rm(",
     "library": "var_list.r",
     "varRefreshCmd": "cat(var_dic_list()) "
    }
   },
   "types_to_exclude": [
    "module",
    "function",
    "builtin_function_or_method",
    "instance",
    "_Feature"
   ],
   "window_display": false
  }
 },
 "nbformat": 4,
 "nbformat_minor": 2
}
